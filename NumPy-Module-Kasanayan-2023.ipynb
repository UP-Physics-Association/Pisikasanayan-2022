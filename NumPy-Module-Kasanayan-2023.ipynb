{
 "cells": [
  {
   "cell_type": "markdown",
   "id": "df4d96e2-f7e0-4af3-be1c-d1bfe4c1fde9",
   "metadata": {},
   "source": [
    "# Introducton to Numpy\n",
    "## PISIKAsanayan 2023 Python Workshop\n",
    "In this part of the workshop, we start to introduce another Python package called ```NumPy```. It is one of the most used Python packages as you delve into computational physics, research, and data manipulation in general. Note that ```NumPy``` has a lot of mathematical functionality, which will not be discussed in depth in this tutorial and will be reserved for further work! In this workshop, we will only cover the basics of getting started into ```NumPy``` and how it can be used to store and manipulate data!\n",
    "\n",
    "## What is NumPy?\n",
    "According to [NumPy.org](https://numpy.org/), `NumPy` is an open source Python library that is of utmost use when working with any **numerical** data in Python and it is one of the core libraries, along with `Matplotlib`, on any computational and scientific works.\n",
    "\n",
    "Perhaps, `NumPy` is commonly used since it is designed to function on **multidimensional array** and **matrix data structures**, which will be discussed in the latter part of the workshop. In other words, it lets the user to efficiently operate on a **homogeneous** $n$-dimensional array object --- recall what **homogeneous** is in the context of Python lists!\n",
    "\n",
    "Operation-wise, `NumPy` adds powerful data structures to Python that guarantee efficient calculations with arrays and matrices. It supplies an enormous library of high-level mathematical functions that operate on these arrays and matrices.\n",
    "\n",
    "## What makes NumPy arrays powerful compared to Python Lists?\n",
    "`NumPy` arrays are like Python's built-in `list` type, but `NumPy` arrays provide much more efficient storage and data operations as the **arrays grow larger in size**. `NumPy` arrays form the core of nearly the entire ecosystem of any computational tools in Python, so learning to use NumPy effectively will be valuable no matter what aspect of computational work or even data science interests you!\n",
    "\n",
    "***"
   ]
  },
  {
   "cell_type": "markdown",
   "id": "401f6ffd-23eb-4b58-90ac-c06ff548adeb",
   "metadata": {},
   "source": [
    "## Importing NumPy\n",
    "\n",
    "Just like any other libraries in Python, it must be imported first."
   ]
  },
  {
   "cell_type": "code",
   "execution_count": 1,
   "id": "566daae6-50a4-4954-8ae1-99233b80a704",
   "metadata": {},
   "outputs": [],
   "source": [
    "import numpy as np"
   ]
  },
  {
   "cell_type": "markdown",
   "id": "1d95cc13-f134-44b7-b3ab-49394414e715",
   "metadata": {},
   "source": [
    "As shown above, we imported `NumPy` as `np` such that whenever we write any built-in function in `NumPy` like `np.function`, the code will look for the specified `function` in the module itself.\n",
    "\n",
    "> **Coding tip** It is a good practice to import all of the libraries or modules you need at start of your notebook!"
   ]
  },
  {
   "cell_type": "markdown",
   "id": "c4ea6176-79aa-48b2-8a7d-593b245c8a26",
   "metadata": {},
   "source": [
    "***\n",
    "## Initializing NumPy arrays\n",
    "The most notable feature of `NumPy` module is the array. These are similar to lists although `Numpy` provides a great deal of functionality which we will be utilising in this workshop. Initializing arrays is the first step of working with large sets of data, which can be achieved in several ways as discussed below.\n",
    "\n",
    "### np.array\n",
    "This command turns a **list** into a numpy array. *Nothing fancy here hehe*."
   ]
  },
  {
   "cell_type": "code",
   "execution_count": 2,
   "id": "7872bbe4-7173-4a20-ad0d-08e4efd6010b",
   "metadata": {},
   "outputs": [
    {
     "data": {
      "text/plain": [
       "array([0, 1, 2, 3])"
      ]
     },
     "execution_count": 2,
     "metadata": {},
     "output_type": "execute_result"
    }
   ],
   "source": [
    "np.array([0, 1, 2, 3])"
   ]
  },
  {
   "cell_type": "code",
   "execution_count": 3,
   "id": "7f358fc1-f265-45b4-93d8-18b36d8e7570",
   "metadata": {},
   "outputs": [
    {
     "data": {
      "text/plain": [
       "array([[0, 1, 2, 3],\n",
       "       [4, 5, 6, 7]])"
      ]
     },
     "execution_count": 3,
     "metadata": {},
     "output_type": "execute_result"
    }
   ],
   "source": [
    "np.array([[0, 1, 2, 3], [4, 5, 6, 7]])"
   ]
  },
  {
   "cell_type": "markdown",
   "id": "e971c24c-a5d8-4f79-b94a-ae0f0a4accc4",
   "metadata": {},
   "source": [
    "where `a` and `b` are one and two-dimensional arrays, respectively.\n",
    "> **Food for the thought** Why does `a = np.array([0, 1, 2, 3])` work while `a = np.array(0, 1, 2, 3)` results to an error? Hmmmm.\n",
    "\n",
    "Remember that unlike Python `list`, `NumPy` is constrained to arrays that all contain the same type, i.e. the elements of the array must be **homogeneous**. If the types do not match, `NumPy` will upcast if possible (here, integers are up-cast to a floating point):"
   ]
  },
  {
   "cell_type": "code",
   "execution_count": 4,
   "id": "08596e14-eebe-4218-8bc0-9b138c6577df",
   "metadata": {},
   "outputs": [
    {
     "data": {
      "text/plain": [
       "array([  2.1718,   1.    ,   4.    ,  10.    , 145.    ])"
      ]
     },
     "execution_count": 4,
     "metadata": {},
     "output_type": "execute_result"
    }
   ],
   "source": [
    "np.array([2.1718, 1, 4, 10, 145])"
   ]
  },
  {
   "cell_type": "markdown",
   "id": "631b0155-c233-43d1-9615-abbfd4b2c51f",
   "metadata": {},
   "source": [
    "### np.linspace\n",
    "This function takes in three arguments: start, end, and number of points. `np.linspace` basically creates an array of **evenly spaced set of values** starting from a user-defined start and end number. For example,"
   ]
  },
  {
   "cell_type": "code",
   "execution_count": 5,
   "id": "bd492adf-66df-469e-b586-86711bbaa169",
   "metadata": {},
   "outputs": [
    {
     "data": {
      "text/plain": [
       "array([ 0.,  2.,  4.,  6.,  8., 10.])"
      ]
     },
     "execution_count": 5,
     "metadata": {},
     "output_type": "execute_result"
    }
   ],
   "source": [
    "np.linspace(0, 10, 6)"
   ]
  },
  {
   "cell_type": "markdown",
   "id": "7db3719c-f78c-47ee-82fb-79be0c2564bc",
   "metadata": {},
   "source": [
    "or what if we want a hundred evenly-spaced points between $0$ to $\\pi$? "
   ]
  },
  {
   "cell_type": "code",
   "execution_count": 6,
   "id": "d9c879ac-db8f-4dd5-88c1-efa8ad8cc6d2",
   "metadata": {},
   "outputs": [
    {
     "data": {
      "text/plain": [
       "array([0.        , 0.03173326, 0.06346652, 0.09519978, 0.12693304,\n",
       "       0.1586663 , 0.19039955, 0.22213281, 0.25386607, 0.28559933,\n",
       "       0.31733259, 0.34906585, 0.38079911, 0.41253237, 0.44426563,\n",
       "       0.47599889, 0.50773215, 0.53946541, 0.57119866, 0.60293192,\n",
       "       0.63466518, 0.66639844, 0.6981317 , 0.72986496, 0.76159822,\n",
       "       0.79333148, 0.82506474, 0.856798  , 0.88853126, 0.92026451,\n",
       "       0.95199777, 0.98373103, 1.01546429, 1.04719755, 1.07893081,\n",
       "       1.11066407, 1.14239733, 1.17413059, 1.20586385, 1.23759711,\n",
       "       1.26933037, 1.30106362, 1.33279688, 1.36453014, 1.3962634 ,\n",
       "       1.42799666, 1.45972992, 1.49146318, 1.52319644, 1.5549297 ,\n",
       "       1.58666296, 1.61839622, 1.65012947, 1.68186273, 1.71359599,\n",
       "       1.74532925, 1.77706251, 1.80879577, 1.84052903, 1.87226229,\n",
       "       1.90399555, 1.93572881, 1.96746207, 1.99919533, 2.03092858,\n",
       "       2.06266184, 2.0943951 , 2.12612836, 2.15786162, 2.18959488,\n",
       "       2.22132814, 2.2530614 , 2.28479466, 2.31652792, 2.34826118,\n",
       "       2.37999443, 2.41172769, 2.44346095, 2.47519421, 2.50692747,\n",
       "       2.53866073, 2.57039399, 2.60212725, 2.63386051, 2.66559377,\n",
       "       2.69732703, 2.72906028, 2.76079354, 2.7925268 , 2.82426006,\n",
       "       2.85599332, 2.88772658, 2.91945984, 2.9511931 , 2.98292636,\n",
       "       3.01465962, 3.04639288, 3.07812614, 3.10985939, 3.14159265])"
      ]
     },
     "execution_count": 6,
     "metadata": {},
     "output_type": "execute_result"
    }
   ],
   "source": [
    "np.linspace(0, np.pi, 100)"
   ]
  },
  {
   "cell_type": "markdown",
   "id": "a15a128d-5589-4a1b-967b-c85d39b2e82e",
   "metadata": {},
   "source": [
    "Feel free to experiment with your values, but note that the set number of evenly points desired must be of `int` type. Otherwise, an error will be encountered!\n",
    "\n",
    "### np.arange\n",
    "Similar to `np.linspace`, `np.arange` also takes in three arguments. The first two corresponds to the start and end point that is not **inclusive**! The third argument also indicates the spacing between each value. This what makes `np.arange` different from `np.linspace`."
   ]
  },
  {
   "cell_type": "code",
   "execution_count": 7,
   "id": "7d0477ee-6134-4cee-a222-5d277479ba32",
   "metadata": {},
   "outputs": [
    {
     "data": {
      "text/plain": [
       "array([ 0,  2,  4,  6,  8, 10, 12, 14, 16, 18, 20, 22, 24])"
      ]
     },
     "execution_count": 7,
     "metadata": {},
     "output_type": "execute_result"
    }
   ],
   "source": [
    "np.arange(0, 25, 2)"
   ]
  },
  {
   "cell_type": "code",
   "execution_count": 8,
   "id": "6619e0eb-ce86-4230-aec6-a4b4122d9eb4",
   "metadata": {},
   "outputs": [
    {
     "data": {
      "text/plain": [
       "array([-10,  -5,   0,   5])"
      ]
     },
     "execution_count": 8,
     "metadata": {},
     "output_type": "execute_result"
    }
   ],
   "source": [
    "np.arange(-10, 10, 5)"
   ]
  },
  {
   "cell_type": "markdown",
   "id": "bebf193b-6f87-4470-af47-053aeb5f494d",
   "metadata": {},
   "source": [
    "### np.zeros and np.ones\n",
    "In terms of producing arrays of a specific size, these are probably your most useful choice. It is more efficient to create arrays from scratch using routines built for `np.zeros` and `np.ones`. These arrays interpret the arguments in passed through them in the same way. The number inside for the functions to produce the first two arrays simply specifies how many values are in your array. As the name implies, `np.zeros` produces an array of zeros while `np.ones` yields an array of ones. For example,"
   ]
  },
  {
   "cell_type": "code",
   "execution_count": 9,
   "id": "65cb1f84-8bf7-4d91-b73e-d98ecac1ca21",
   "metadata": {},
   "outputs": [
    {
     "data": {
      "text/plain": [
       "array([1., 1., 1., 1., 1., 1., 1., 1., 1., 1.])"
      ]
     },
     "execution_count": 9,
     "metadata": {},
     "output_type": "execute_result"
    }
   ],
   "source": [
    "np.ones(10)"
   ]
  },
  {
   "cell_type": "code",
   "execution_count": 10,
   "id": "72c2e7ea-9711-4626-a184-d874be3b9dc2",
   "metadata": {},
   "outputs": [
    {
     "data": {
      "text/plain": [
       "array([0., 0., 0., 0., 0., 0., 0., 0., 0., 0.])"
      ]
     },
     "execution_count": 10,
     "metadata": {},
     "output_type": "execute_result"
    }
   ],
   "source": [
    "np.zeros(10)"
   ]
  },
  {
   "cell_type": "markdown",
   "id": "ac3c5b25-5b43-4ec5-bce7-6afc39e24270",
   "metadata": {},
   "source": [
    "produces a length-10 one-dimensional array of ones and zeros. If you want a multidimensional array of floating point array of zeros or ones,"
   ]
  },
  {
   "cell_type": "code",
   "execution_count": 11,
   "id": "449209a0-aa74-4d99-be28-31d79935741a",
   "metadata": {},
   "outputs": [
    {
     "data": {
      "text/plain": [
       "array([[0., 0., 0., 0.],\n",
       "       [0., 0., 0., 0.],\n",
       "       [0., 0., 0., 0.]])"
      ]
     },
     "execution_count": 11,
     "metadata": {},
     "output_type": "execute_result"
    }
   ],
   "source": [
    "np.zeros(shape = (3, 4))"
   ]
  },
  {
   "cell_type": "code",
   "execution_count": 12,
   "id": "76a965ed-ae29-44b6-b283-ef0d4d9792eb",
   "metadata": {},
   "outputs": [
    {
     "data": {
      "text/plain": [
       "array([[0., 0.],\n",
       "       [0., 0.],\n",
       "       [0., 0.],\n",
       "       [0., 0.],\n",
       "       [0., 0.],\n",
       "       [0., 0.],\n",
       "       [0., 0.]])"
      ]
     },
     "execution_count": 12,
     "metadata": {},
     "output_type": "execute_result"
    }
   ],
   "source": [
    "np.zeros(shape = (7, 2))"
   ]
  },
  {
   "cell_type": "markdown",
   "id": "8b1e4524-363f-46e0-8f5f-bd1293a346fa",
   "metadata": {},
   "source": [
    "where the argument `shape` dictates the size of the array"
   ]
  },
  {
   "cell_type": "markdown",
   "id": "703eabca-0010-46c2-aeda-2ae6857fee35",
   "metadata": {},
   "source": [
    "### np.full\n",
    "Similar to `np.zeros` and `np.ones`, `np.full` initializes an array of other floating points other than zero or one. For example, if we want a 6 by 6 array whose elements are all $\\pi$, "
   ]
  },
  {
   "cell_type": "code",
   "execution_count": 13,
   "id": "bd233ca7-de7a-44c2-86ad-3b0b291f4086",
   "metadata": {},
   "outputs": [
    {
     "data": {
      "text/plain": [
       "array([[3.14, 3.14, 3.14, 3.14, 3.14, 3.14],\n",
       "       [3.14, 3.14, 3.14, 3.14, 3.14, 3.14],\n",
       "       [3.14, 3.14, 3.14, 3.14, 3.14, 3.14],\n",
       "       [3.14, 3.14, 3.14, 3.14, 3.14, 3.14],\n",
       "       [3.14, 3.14, 3.14, 3.14, 3.14, 3.14],\n",
       "       [3.14, 3.14, 3.14, 3.14, 3.14, 3.14]])"
      ]
     },
     "execution_count": 13,
     "metadata": {},
     "output_type": "execute_result"
    }
   ],
   "source": [
    "np.full((6, 6), 3.14)"
   ]
  },
  {
   "cell_type": "code",
   "execution_count": 14,
   "id": "1f480252-42a3-4c00-a836-c388d76de0b1",
   "metadata": {},
   "outputs": [
    {
     "data": {
      "text/plain": [
       "array([[11, 11, 11, 11, 11],\n",
       "       [11, 11, 11, 11, 11],\n",
       "       [11, 11, 11, 11, 11]])"
      ]
     },
     "execution_count": 14,
     "metadata": {},
     "output_type": "execute_result"
    }
   ],
   "source": [
    "np.full((3, 5), 11)"
   ]
  },
  {
   "cell_type": "code",
   "execution_count": 15,
   "id": "403b071f-79bd-420c-9fc6-2e017b72c86a",
   "metadata": {},
   "outputs": [
    {
     "data": {
      "text/plain": [
       "array([[0, 1],\n",
       "       [0, 1]])"
      ]
     },
     "execution_count": 15,
     "metadata": {},
     "output_type": "execute_result"
    }
   ],
   "source": [
    "np.full((2, 2), [0, 1])"
   ]
  },
  {
   "cell_type": "markdown",
   "id": "740fb432-709f-4026-9423-79ff2ed0e39b",
   "metadata": {},
   "source": [
    "***\n",
    "## Common array operations\n",
    "### Array indexing\n",
    "Similar to indexing in Python's `list` as discussed in the previous parts of the workshop, indexing in `NumPy` will be quite familiar. In a **one-dimensional array**, the $n$th value (counting from zero) can be accessed by specifying the desired index in square brackets, just as with Python lists:"
   ]
  },
  {
   "cell_type": "code",
   "execution_count": 16,
   "id": "7a6a045c-4b96-4c1f-9a12-c26a407ce7c9",
   "metadata": {},
   "outputs": [
    {
     "data": {
      "text/plain": [
       "0"
      ]
     },
     "execution_count": 16,
     "metadata": {},
     "output_type": "execute_result"
    }
   ],
   "source": [
    "a = np.array([0, 1, 2, 3])\n",
    "a[0] # first element"
   ]
  },
  {
   "cell_type": "code",
   "execution_count": 17,
   "id": "52022179-36fd-46bb-bd05-334ecd1b1021",
   "metadata": {},
   "outputs": [
    {
     "data": {
      "text/plain": [
       "array([ 0,  3,  6,  9, 12, 15, 18])"
      ]
     },
     "execution_count": 17,
     "metadata": {},
     "output_type": "execute_result"
    }
   ],
   "source": [
    "b = np.array([x for x in range(0, 20, 3)])\n",
    "b"
   ]
  },
  {
   "cell_type": "code",
   "execution_count": 18,
   "id": "82f90b2d-13ca-4450-990f-c0d1c28412e8",
   "metadata": {},
   "outputs": [
    {
     "data": {
      "text/plain": [
       "12"
      ]
     },
     "execution_count": 18,
     "metadata": {},
     "output_type": "execute_result"
    }
   ],
   "source": [
    "b[4] # fifth element"
   ]
  },
  {
   "cell_type": "markdown",
   "id": "4f133cf8-5a7a-4f32-bef9-cc443c7b4aee",
   "metadata": {},
   "source": [
    "To index from the end of the array, you can use negative indices as follows"
   ]
  },
  {
   "cell_type": "code",
   "execution_count": 19,
   "id": "af2bd0ab-5e49-415e-a01f-fba84ad0bf6f",
   "metadata": {},
   "outputs": [
    {
     "data": {
      "text/plain": [
       "18"
      ]
     },
     "execution_count": 19,
     "metadata": {},
     "output_type": "execute_result"
    }
   ],
   "source": [
    "b[-1] # last element"
   ]
  },
  {
   "cell_type": "code",
   "execution_count": 20,
   "id": "4efc04a1-9337-44db-a3ff-ee9b76ba9170",
   "metadata": {},
   "outputs": [
    {
     "data": {
      "text/plain": [
       "12"
      ]
     },
     "execution_count": 20,
     "metadata": {},
     "output_type": "execute_result"
    }
   ],
   "source": [
    "b[-3] # third to the last element, similar to b[4]"
   ]
  },
  {
   "cell_type": "markdown",
   "id": "7ebeec5f-e533-46dd-92ad-bc1135d98246",
   "metadata": {},
   "source": [
    "To index a **two-dimensional array**, it is intuitive to select an element by column and row entry! This is demonstrated explicity in the following examples. Of course, arrays of higher dimensions exist and can be indexed as well, but these will be outside the scope of the workshop. \n",
    "\n",
    "In general, indexing takes the syntax of `x[row number, column number]` where `x` is an arbitrary two-dimensional array. **Do not be confused that the Python indexing always starts at 0**, i.e the first row and column of `x` are always indexed as 0 by default."
   ]
  },
  {
   "cell_type": "code",
   "execution_count": 21,
   "id": "721e31e2-5709-469e-95d8-8180f0d76e82",
   "metadata": {},
   "outputs": [
    {
     "data": {
      "text/plain": [
       "array([[0, 1, 2],\n",
       "       [3, 4, 5],\n",
       "       [6, 7, 8]])"
      ]
     },
     "execution_count": 21,
     "metadata": {},
     "output_type": "execute_result"
    }
   ],
   "source": [
    "c = np.array([[0,1,2],[3,4,5], [6, 7, 8]])\n",
    "c"
   ]
  },
  {
   "cell_type": "markdown",
   "id": "9200e2af-80d4-4884-a48b-3e6950bd6717",
   "metadata": {},
   "source": [
    "Let us say we are interested on the second column and third row entry of the multidimensional array or matrix `c`,"
   ]
  },
  {
   "cell_type": "code",
   "execution_count": 22,
   "id": "8ac7e266-33f2-45ef-b7f5-0980ed2e49b1",
   "metadata": {},
   "outputs": [
    {
     "data": {
      "text/plain": [
       "7"
      ]
     },
     "execution_count": 22,
     "metadata": {},
     "output_type": "execute_result"
    }
   ],
   "source": [
    "c[2,1]"
   ]
  },
  {
   "cell_type": "markdown",
   "id": "41084f96-ff76-4ba0-8abd-5806484063bf",
   "metadata": {},
   "source": [
    "or the first row and last column entry of `c` as well,"
   ]
  },
  {
   "cell_type": "code",
   "execution_count": 23,
   "id": "745e5e40-2d2b-4d9c-9759-b933052d5010",
   "metadata": {},
   "outputs": [
    {
     "data": {
      "text/plain": [
       "2"
      ]
     },
     "execution_count": 23,
     "metadata": {},
     "output_type": "execute_result"
    }
   ],
   "source": [
    "c[0,2]"
   ]
  },
  {
   "cell_type": "code",
   "execution_count": 24,
   "id": "03c45654-7852-45a5-a778-aa89c85e1b2c",
   "metadata": {},
   "outputs": [
    {
     "data": {
      "text/plain": [
       "2"
      ]
     },
     "execution_count": 24,
     "metadata": {},
     "output_type": "execute_result"
    }
   ],
   "source": [
    "c[0,-1]"
   ]
  },
  {
   "cell_type": "markdown",
   "id": "b567e8f6-c452-41dc-96a1-3a071ac2c009",
   "metadata": {},
   "source": [
    "Similar to lists, arrays are also **mutable**, i.e. the elements can still be changed after creating them. For example, if we wish to change the frist row and first column entry of `c`, "
   ]
  },
  {
   "cell_type": "code",
   "execution_count": 25,
   "id": "9cfae462-88cc-4a88-ab5a-a016df365c1f",
   "metadata": {},
   "outputs": [
    {
     "data": {
      "text/plain": [
       "array([[2, 1, 2],\n",
       "       [3, 4, 5],\n",
       "       [6, 7, 8]])"
      ]
     },
     "execution_count": 25,
     "metadata": {},
     "output_type": "execute_result"
    }
   ],
   "source": [
    "c[0,0] = 2\n",
    "c"
   ]
  },
  {
   "cell_type": "markdown",
   "id": "34879f9c-f36a-48e2-b5af-95b72d57ba38",
   "metadata": {},
   "source": [
    "As expected, the element corresponding to `c[0,0]` was changed from 0 to 2.\n",
    "\n",
    "***\n",
    "### Array slicing\n",
    "Similar to the syntax for array indexing, array slicing makes use of the slice notation `:` to indicate the range of subarrays that needs to be accessed. The `NumPy` slicing syntax follows that of the standard Python `list`. In general, the syntax is `x[start:stop:step]`. If any of these are unspecified, they default to the values `start = 0`, `stop = size of dimension`, and `step = 1`. We'll take a look at accessing subarrays in one dimension and in two dimensions.\n",
    "\n",
    "To slice a **one-dimensional array**,"
   ]
  },
  {
   "cell_type": "code",
   "execution_count": 26,
   "id": "bfeaa083-79a5-4211-8317-b5ffe0168a32",
   "metadata": {},
   "outputs": [
    {
     "data": {
      "text/plain": [
       "array([-10,  -8,  -6,  -4,  -2,   0,   2,   4,   6,   8])"
      ]
     },
     "execution_count": 26,
     "metadata": {},
     "output_type": "execute_result"
    }
   ],
   "source": [
    "e = np.arange(-10, 10, 2)\n",
    "e"
   ]
  },
  {
   "cell_type": "code",
   "execution_count": 27,
   "id": "93f13ba9-acee-4ddd-9bcd-3deef63968ae",
   "metadata": {},
   "outputs": [
    {
     "data": {
      "text/plain": [
       "array([-10,  -8,  -6,  -4,  -2])"
      ]
     },
     "execution_count": 27,
     "metadata": {},
     "output_type": "execute_result"
    }
   ],
   "source": [
    "e[:5]"
   ]
  },
  {
   "cell_type": "markdown",
   "id": "24b627de-c5b1-478e-8664-de9c3a8c0ad8",
   "metadata": {},
   "source": [
    "returns the first five elements of the array `e`. Similarly, if we want to return the elements after the fifth index,"
   ]
  },
  {
   "cell_type": "code",
   "execution_count": 28,
   "id": "ea97cfba-e4c2-46b6-9f9d-b743e31c91e6",
   "metadata": {},
   "outputs": [
    {
     "data": {
      "text/plain": [
       "array([0, 2, 4, 6, 8])"
      ]
     },
     "execution_count": 28,
     "metadata": {},
     "output_type": "execute_result"
    }
   ],
   "source": [
    "e[5:]"
   ]
  },
  {
   "cell_type": "markdown",
   "id": "995c2130-615f-4d6d-ae93-acceccfe3156",
   "metadata": {},
   "source": [
    "To slice the array on the middle elements,"
   ]
  },
  {
   "cell_type": "code",
   "execution_count": 29,
   "id": "036e40d5-a1ea-43dc-9826-cea85eb4beea",
   "metadata": {},
   "outputs": [
    {
     "data": {
      "text/plain": [
       "array([-4, -2,  0,  2,  4])"
      ]
     },
     "execution_count": 29,
     "metadata": {},
     "output_type": "execute_result"
    }
   ],
   "source": [
    "e[3:8]"
   ]
  },
  {
   "cell_type": "markdown",
   "id": "386e35a4-c6f3-4248-89ac-aa71d74b24fc",
   "metadata": {},
   "source": [
    "To return every other element of the array starting at index 0 and 1, respectively,"
   ]
  },
  {
   "cell_type": "code",
   "execution_count": 30,
   "id": "66215e47-1652-4d01-aaee-25bddd5f473c",
   "metadata": {},
   "outputs": [
    {
     "data": {
      "text/plain": [
       "array([-10,  -6,  -2,   2,   6])"
      ]
     },
     "execution_count": 30,
     "metadata": {},
     "output_type": "execute_result"
    }
   ],
   "source": [
    "e[::2]"
   ]
  },
  {
   "cell_type": "code",
   "execution_count": 31,
   "id": "a9f99b78-93e9-4aec-bfa3-223534fa2b52",
   "metadata": {},
   "outputs": [
    {
     "data": {
      "text/plain": [
       "array([-8, -4,  0,  4,  8])"
      ]
     },
     "execution_count": 31,
     "metadata": {},
     "output_type": "execute_result"
    }
   ],
   "source": [
    "e[1::2]"
   ]
  },
  {
   "cell_type": "markdown",
   "id": "b74d3ddf-7ffa-4ee8-ad60-b11dc343b071",
   "metadata": {},
   "source": [
    "Interestingly, we can reverse an array by setting the `step` to be negative. For example,"
   ]
  },
  {
   "cell_type": "code",
   "execution_count": 32,
   "id": "943d025f-92a8-444a-b118-9484d03bd3ae",
   "metadata": {},
   "outputs": [
    {
     "data": {
      "text/plain": [
       "array([  8,   6,   4,   2,   0,  -2,  -4,  -6,  -8, -10])"
      ]
     },
     "execution_count": 32,
     "metadata": {},
     "output_type": "execute_result"
    }
   ],
   "source": [
    "e[::-1]"
   ]
  },
  {
   "cell_type": "markdown",
   "id": "7170fb82-c31a-4cf9-bd5f-320d8b2986fc",
   "metadata": {},
   "source": [
    ">**Question** What does the code below do and why does it return such specific element(s)?"
   ]
  },
  {
   "cell_type": "code",
   "execution_count": 33,
   "id": "c2a3ef93-203a-4fb2-a2e1-535660300b94",
   "metadata": {},
   "outputs": [
    {
     "data": {
      "text/plain": [
       "array([ -6, -10])"
      ]
     },
     "execution_count": 33,
     "metadata": {},
     "output_type": "execute_result"
    }
   ],
   "source": [
    "e[2::-2]"
   ]
  },
  {
   "cell_type": "markdown",
   "id": "5dedab55-cfce-4a1d-adc5-91087457951e",
   "metadata": {},
   "source": [
    "On the other hand, slicing **two-dimensional** arrays can get confusing at first, but as long as you take into account that Python indexing always start at 0, you have nothing to worry about! We can consider the following examples to establish clarity."
   ]
  },
  {
   "cell_type": "code",
   "execution_count": 34,
   "id": "0632c1f9-8deb-4be2-9222-7d992b31a088",
   "metadata": {},
   "outputs": [
    {
     "data": {
      "text/plain": [
       "array([[ 1,  0,  3,  5],\n",
       "       [ 4,  5,  0,  1],\n",
       "       [ 9,  2,  0, -2]])"
      ]
     },
     "execution_count": 34,
     "metadata": {},
     "output_type": "execute_result"
    }
   ],
   "source": [
    "f = np.array([[1,0,3,5],[4,5,0,1],[9,2,0,-2]])\n",
    "f"
   ]
  },
  {
   "cell_type": "markdown",
   "id": "f78aa356-f8f0-495a-9377-69f4839c9563",
   "metadata": {},
   "source": [
    "To access the first row only,"
   ]
  },
  {
   "cell_type": "code",
   "execution_count": 35,
   "id": "5937bc7d-9aab-4791-aa76-23c7900ba75a",
   "metadata": {},
   "outputs": [
    {
     "data": {
      "text/plain": [
       "array([1, 0, 3, 5])"
      ]
     },
     "execution_count": 35,
     "metadata": {},
     "output_type": "execute_result"
    }
   ],
   "source": [
    "f[0,:]"
   ]
  },
  {
   "cell_type": "markdown",
   "id": "3e667c35-4df0-4ebe-8795-1ab0b2a01420",
   "metadata": {},
   "source": [
    "where `:` tells the program to access all columns of the matrix. But, if we only want the last three entries of the first row,"
   ]
  },
  {
   "cell_type": "code",
   "execution_count": 36,
   "id": "d18c7e0d-feae-43d9-b741-6126c1418c15",
   "metadata": {},
   "outputs": [
    {
     "data": {
      "text/plain": [
       "array([0, 3, 5])"
      ]
     },
     "execution_count": 36,
     "metadata": {},
     "output_type": "execute_result"
    }
   ],
   "source": [
    "f[0,1:4]"
   ]
  },
  {
   "cell_type": "markdown",
   "id": "3dbf33e1-3245-4f0b-a259-18fbdf76a436",
   "metadata": {},
   "source": [
    "Similarly, if we want the first two column entries of the matrix,"
   ]
  },
  {
   "cell_type": "code",
   "execution_count": 37,
   "id": "223e4ca4-b0a7-4605-a532-31a1cb0e52ab",
   "metadata": {},
   "outputs": [
    {
     "data": {
      "text/plain": [
       "array([[1, 0],\n",
       "       [4, 5],\n",
       "       [9, 2]])"
      ]
     },
     "execution_count": 37,
     "metadata": {},
     "output_type": "execute_result"
    }
   ],
   "source": [
    "f[:,0:2]"
   ]
  },
  {
   "cell_type": "code",
   "execution_count": 38,
   "id": "12d1da64-5e9e-480a-9578-860c8b7aaa89",
   "metadata": {},
   "outputs": [
    {
     "data": {
      "text/plain": [
       "array([[0, 3, 5],\n",
       "       [5, 0, 1]])"
      ]
     },
     "execution_count": 38,
     "metadata": {},
     "output_type": "execute_result"
    }
   ],
   "source": [
    "f[0:2,1:]"
   ]
  },
  {
   "cell_type": "markdown",
   "id": "e733c961-73e7-428e-90cb-ab70c8de2db0",
   "metadata": {},
   "source": [
    "> **Question** How do we access the $\\begin{bmatrix} 0&1\\\\0&-2 \\end{bmatrix}$ entry of the matrix `f`?\n",
    "\n",
    "> **Question** How do we reverse the elements of the matrix such that the resulting matrix is $\\begin{bmatrix} -2&0&2&9 \\\\ 1&0&5&4 \\\\ 5&3&0&1 \\end{bmatrix}$ ?\n",
    "***\n",
    "### np.reshape\n",
    "This function passes the array to be reshaped as the first argument, then it brackets the dimensions you want to reshape it to. For example, if we want to put the numbers 1 through 9 in a 3 by 3 grid, you can do the following. Make sure that the array being reshaped fits into the set dimension, otherwise error will be encountered!"
   ]
  },
  {
   "cell_type": "code",
   "execution_count": 39,
   "id": "b8eab0fc-4ffb-41bf-bd13-085f6f676066",
   "metadata": {},
   "outputs": [
    {
     "data": {
      "text/plain": [
       "array([[1, 2, 3],\n",
       "       [4, 5, 6],\n",
       "       [7, 8, 9]])"
      ]
     },
     "execution_count": 39,
     "metadata": {},
     "output_type": "execute_result"
    }
   ],
   "source": [
    "np.arange(1, 10, 1).reshape((3,3))"
   ]
  },
  {
   "cell_type": "code",
   "execution_count": 40,
   "id": "33ea1d6d-a181-44df-bb20-ce6fd927e929",
   "metadata": {},
   "outputs": [
    {
     "data": {
      "text/plain": [
       "array([[ 2,  3,  4,  5,  6,  7],\n",
       "       [ 8,  9, 10, 11, 12, 13],\n",
       "       [14, 15, 16, 17, 18, 19]])"
      ]
     },
     "execution_count": 40,
     "metadata": {},
     "output_type": "execute_result"
    }
   ],
   "source": [
    "a = np.arange(2, 20)\n",
    "np.reshape(a, (3, 6))"
   ]
  },
  {
   "cell_type": "markdown",
   "id": "b221a099-310e-460d-9c68-44a3c82d6021",
   "metadata": {},
   "source": [
    "### np.append\n",
    "Since arrays are **mutable**, we can add elements to it just like the `append()` in `list`. For example, we have two one-dimensional arrays and we want to sort of attach the elements of the second array to the first,"
   ]
  },
  {
   "cell_type": "code",
   "execution_count": 41,
   "id": "42cd637e-c8d8-45b4-a7d9-8d79117b128e",
   "metadata": {},
   "outputs": [
    {
     "data": {
      "text/plain": [
       "array([ 1,  2,  8,  4,  5,  7,  3,  6,  9, 12, 15])"
      ]
     },
     "execution_count": 41,
     "metadata": {},
     "output_type": "execute_result"
    }
   ],
   "source": [
    "x = np.array([1, 2, 8, 4, 5, 7])\n",
    "y = np.array([3, 6, 9, 12, 15])\n",
    "z = np.append(x, y)\n",
    "z"
   ]
  },
  {
   "cell_type": "markdown",
   "id": "069847e9-6473-4025-b1a4-fbee929cb3ff",
   "metadata": {},
   "source": [
    "Another example would be appending a two-dimensional array to a one-dimensional array,"
   ]
  },
  {
   "cell_type": "code",
   "execution_count": 42,
   "id": "cf90a2d7-b511-4e52-add0-9e9b92af677a",
   "metadata": {},
   "outputs": [
    {
     "data": {
      "text/plain": [
       "array([1, 2, 3, 4, 5, 6, 7, 8, 9])"
      ]
     },
     "execution_count": 42,
     "metadata": {},
     "output_type": "execute_result"
    }
   ],
   "source": [
    "np.append([1, 2, 3], [[4, 5, 6], [7, 8, 9]])"
   ]
  },
  {
   "cell_type": "markdown",
   "id": "bc92cf26-e25f-4120-a8ec-82748bae6606",
   "metadata": {},
   "source": [
    "Additionally, sorting the array `z` in an ascending order can be done by"
   ]
  },
  {
   "cell_type": "code",
   "execution_count": 43,
   "id": "1e13e630-ca37-41ea-85c1-c8e4425dca0f",
   "metadata": {},
   "outputs": [
    {
     "data": {
      "text/plain": [
       "array([ 1,  2,  3,  4,  5,  6,  7,  8,  9, 12, 15])"
      ]
     },
     "execution_count": 43,
     "metadata": {},
     "output_type": "execute_result"
    }
   ],
   "source": [
    "np.sort(z)"
   ]
  },
  {
   "cell_type": "markdown",
   "id": "d629f7aa-f449-4300-9535-14945fc2ced1",
   "metadata": {},
   "source": [
    "### np.concantenate\n",
    "This is similar to `np.append`, but the arrays are attached together instead of just combining everything into a single array. Using the same arrays `x` and `y`,"
   ]
  },
  {
   "cell_type": "code",
   "execution_count": 44,
   "id": "125fcd83-1e19-45df-80a8-9c3b0b931abe",
   "metadata": {},
   "outputs": [],
   "source": [
    "a = np.array([[-2, 2], [3, 0]])\n",
    "b = np.array([[4, -1]])"
   ]
  },
  {
   "cell_type": "code",
   "execution_count": 45,
   "id": "0eec8228-61d7-471e-a1fd-faf0fa06ab9a",
   "metadata": {},
   "outputs": [
    {
     "data": {
      "text/plain": [
       "array([[-2,  2],\n",
       "       [ 3,  0],\n",
       "       [ 4, -1]])"
      ]
     },
     "execution_count": 45,
     "metadata": {},
     "output_type": "execute_result"
    }
   ],
   "source": [
    "np.concatenate((a, b), axis = 0)"
   ]
  },
  {
   "cell_type": "code",
   "execution_count": 46,
   "id": "fd347e02-c1c3-4247-ac05-d1b6d93e203c",
   "metadata": {},
   "outputs": [
    {
     "data": {
      "text/plain": [
       "array([[-2,  2,  4],\n",
       "       [ 3,  0, -1]])"
      ]
     },
     "execution_count": 46,
     "metadata": {},
     "output_type": "execute_result"
    }
   ],
   "source": [
    "np.concatenate((a, b.T), axis = 1)"
   ]
  },
  {
   "cell_type": "markdown",
   "id": "1cc3e382-7632-4a49-b174-44dc0e77a3eb",
   "metadata": {},
   "source": [
    "where `axis` specifies the directions along the rows and columns. In a two-dimensional array, remember that `axis = 0` corresponds to the first dimension, i.e. the rows, while `axis = 1` points to the columns as it is the second dimension."
   ]
  },
  {
   "cell_type": "markdown",
   "id": "4da27833-bacb-4780-90ed-c1e927896445",
   "metadata": {},
   "source": [
    "***\n",
    "## Mathematical operations and constants\n",
    "Mathmatical operations behave differently when applied to `list` than they do to arrays. In fact, many of the operations cannot be applied to `list` or in the case of addition one needs to add another list. These makes `NumPy` much more convenient and efficient to work with compared to `list`. Suppose we have a one-dimensional array"
   ]
  },
  {
   "cell_type": "code",
   "execution_count": 47,
   "id": "076f0df6-f965-49e8-a821-69771f610732",
   "metadata": {},
   "outputs": [
    {
     "data": {
      "text/plain": [
       "array([1, 2, 3, 4, 5, 6, 7])"
      ]
     },
     "execution_count": 47,
     "metadata": {},
     "output_type": "execute_result"
    }
   ],
   "source": [
    "h = np.arange(1, 8)\n",
    "h"
   ]
  },
  {
   "cell_type": "markdown",
   "id": "8c2815ad-4514-4676-97e6-d5d13581fd92",
   "metadata": {},
   "source": [
    "Performing the usual mathematical operations,"
   ]
  },
  {
   "cell_type": "code",
   "execution_count": 48,
   "id": "b2cbe6c6-374b-4eec-b141-bad3e9a82301",
   "metadata": {},
   "outputs": [
    {
     "data": {
      "text/plain": [
       "array([ 2,  4,  6,  8, 10, 12, 14])"
      ]
     },
     "execution_count": 48,
     "metadata": {},
     "output_type": "execute_result"
    }
   ],
   "source": [
    "h + h"
   ]
  },
  {
   "cell_type": "code",
   "execution_count": 49,
   "id": "7a3f51c1-bbc6-4580-afa0-0981897b182f",
   "metadata": {},
   "outputs": [
    {
     "data": {
      "text/plain": [
       "array([ 3,  6,  9, 12, 15, 18, 21])"
      ]
     },
     "execution_count": 49,
     "metadata": {},
     "output_type": "execute_result"
    }
   ],
   "source": [
    "h + 2*h"
   ]
  },
  {
   "cell_type": "code",
   "execution_count": 50,
   "id": "77190b3f-465f-4a00-9b59-25d06766c56f",
   "metadata": {},
   "outputs": [
    {
     "data": {
      "text/plain": [
       "array([ 1,  4,  9, 16, 25, 36, 49], dtype=int32)"
      ]
     },
     "execution_count": 50,
     "metadata": {},
     "output_type": "execute_result"
    }
   ],
   "source": [
    "h**2"
   ]
  },
  {
   "cell_type": "markdown",
   "id": "28dab417-d668-4835-a244-6fb0a6f9cc0b",
   "metadata": {},
   "source": [
    "Other useful functions built-in to `NumPy` can also be used,"
   ]
  },
  {
   "cell_type": "code",
   "execution_count": 51,
   "id": "9bb87b88-f386-43c7-8d12-8de845036a91",
   "metadata": {},
   "outputs": [
    {
     "data": {
      "text/plain": [
       "28"
      ]
     },
     "execution_count": 51,
     "metadata": {},
     "output_type": "execute_result"
    }
   ],
   "source": [
    "np.sum(h)"
   ]
  },
  {
   "cell_type": "code",
   "execution_count": 52,
   "id": "3598500e-3cc8-4aa7-ba4b-23ec1f9d7da0",
   "metadata": {},
   "outputs": [
    {
     "data": {
      "text/plain": [
       "4.0"
      ]
     },
     "execution_count": 52,
     "metadata": {},
     "output_type": "execute_result"
    }
   ],
   "source": [
    "np.mean(h)"
   ]
  },
  {
   "cell_type": "code",
   "execution_count": 53,
   "id": "7957f964-ee61-4e93-bcea-be0c73161eff",
   "metadata": {},
   "outputs": [
    {
     "data": {
      "text/plain": [
       "1"
      ]
     },
     "execution_count": 53,
     "metadata": {},
     "output_type": "execute_result"
    }
   ],
   "source": [
    "np.min(h)"
   ]
  },
  {
   "cell_type": "code",
   "execution_count": 54,
   "id": "4a47dd12-92fe-473c-b562-4f924a793eb7",
   "metadata": {},
   "outputs": [
    {
     "data": {
      "text/plain": [
       "7"
      ]
     },
     "execution_count": 54,
     "metadata": {},
     "output_type": "execute_result"
    }
   ],
   "source": [
    "np.max(h)"
   ]
  },
  {
   "cell_type": "markdown",
   "id": "c2a98f9e-677b-482f-8ab7-27d84c586904",
   "metadata": {},
   "source": [
    "Some useful mathematical constants that are of use in common physics problems are"
   ]
  },
  {
   "cell_type": "code",
   "execution_count": 55,
   "id": "3748a996-e662-47ff-acb9-063b7863f170",
   "metadata": {},
   "outputs": [
    {
     "data": {
      "text/plain": [
       "3.141592653589793"
      ]
     },
     "execution_count": 55,
     "metadata": {},
     "output_type": "execute_result"
    }
   ],
   "source": [
    "np.pi"
   ]
  },
  {
   "cell_type": "code",
   "execution_count": 56,
   "id": "0ef57eda-6c16-460b-897d-4e3cc2688fb0",
   "metadata": {},
   "outputs": [
    {
     "data": {
      "text/plain": [
       "2.718281828459045"
      ]
     },
     "execution_count": 56,
     "metadata": {},
     "output_type": "execute_result"
    }
   ],
   "source": [
    "np.e"
   ]
  },
  {
   "cell_type": "markdown",
   "id": "4c199de6-8b4d-46c0-b0ae-3ed626b6f661",
   "metadata": {},
   "source": [
    "Some common functions"
   ]
  },
  {
   "cell_type": "code",
   "execution_count": 57,
   "id": "054e9d84-f2f8-4d21-9034-b2aad4c2762b",
   "metadata": {},
   "outputs": [
    {
     "data": {
      "text/plain": [
       "3.0"
      ]
     },
     "execution_count": 57,
     "metadata": {},
     "output_type": "execute_result"
    }
   ],
   "source": [
    "np.sqrt(9)"
   ]
  },
  {
   "cell_type": "code",
   "execution_count": 58,
   "id": "8965020f-af85-4e8d-b854-a6178f58cf3b",
   "metadata": {},
   "outputs": [
    {
     "data": {
      "text/plain": [
       "7.38905609893065"
      ]
     },
     "execution_count": 58,
     "metadata": {},
     "output_type": "execute_result"
    }
   ],
   "source": [
    "np.exp(2)"
   ]
  },
  {
   "cell_type": "code",
   "execution_count": 59,
   "id": "b50eda78-16d6-4e66-a2fe-74aac4e946e4",
   "metadata": {},
   "outputs": [
    {
     "data": {
      "text/plain": [
       "1.0"
      ]
     },
     "execution_count": 59,
     "metadata": {},
     "output_type": "execute_result"
    }
   ],
   "source": [
    "np.sin(np.pi/2)"
   ]
  },
  {
   "cell_type": "code",
   "execution_count": 60,
   "id": "5dca4e37-bfa8-4269-869e-c4d09186fba8",
   "metadata": {},
   "outputs": [
    {
     "data": {
      "text/plain": [
       "-1.2246467991473532e-16"
      ]
     },
     "execution_count": 60,
     "metadata": {},
     "output_type": "execute_result"
    }
   ],
   "source": [
    "np.tan(np.pi)"
   ]
  },
  {
   "cell_type": "markdown",
   "id": "a9884d0f-43c1-4bc9-b38e-949696c27d82",
   "metadata": {},
   "source": [
    "***\n",
    "# Exercises\n",
    "The best way to learn is to do it by yourself! Try to execute the following as instructed.\n",
    "\n",
    "1. Create array from -100 to 100 with 250 elements, inclusively.\n",
    "2. Set up an array from 1 to 27 with 9 elements, exclusively.\n",
    "3. Create an arbitrary matrix with 6 rows and 10 columns whose entries are the numbers from 0 to 59.\n",
    "    1. What are the second and fourth rows of the resulting matrix?\n",
    "    2. What is the last column of the matrix?\n",
    "4. Consider the array `[[3 ,6, 9, 12], [15 ,18, 21, 24], \n",
    "[27 ,30, 33, 36], [39 ,42, 45, 48], [51 ,54, 57, 60]]`. Write a **single** line of code that will return the array of odd rows and even columns of the array.\n",
    "5. Initialize a 4 by 4 matrix whose entries on the main diagonal are the first four integers and the remaining elements are all zeros.\n",
    "    1. Now, redefine the resulting matrix such that the main diagonals are now all nines.\n",
    "6. **Optional** Consider two matrices $A = \\begin{bmatrix} 1&2&7\\\\9&3&-2 \\end{bmatrix}$ and $B = \\begin{bmatrix} 0&-4\\\\3&-3\\\\0&1 \\end{bmatrix}$.\n",
    "    1. Find $A \\cdot B$ and $A \\times B$, i.e. the (dot) product and cross product between $A$ and $B$, respectively. Hint: The corresponding `NumPy` function for these operations were not discussed on the workshop, but you can look it up on the internet!\n",
    "    2. What is the shape of the resulting matrices for both matrix operations?"
   ]
  }
 ],
 "metadata": {
  "kernelspec": {
   "display_name": "Python 3 (ipykernel)",
   "language": "python",
   "name": "python3"
  },
  "language_info": {
   "codemirror_mode": {
    "name": "ipython",
    "version": 3
   },
   "file_extension": ".py",
   "mimetype": "text/x-python",
   "name": "python",
   "nbconvert_exporter": "python",
   "pygments_lexer": "ipython3",
   "version": "3.9.13"
  }
 },
 "nbformat": 4,
 "nbformat_minor": 5
}
