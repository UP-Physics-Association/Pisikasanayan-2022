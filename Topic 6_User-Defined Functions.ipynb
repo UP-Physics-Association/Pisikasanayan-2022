{
  "cells": [
    {
      "cell_type": "markdown",
      "metadata": {
        "id": "aX8gRlPi9urH"
      },
      "source": [
        "# Functions"
      ]
    },
    {
      "cell_type": "markdown",
      "metadata": {
        "id": "3IcAy_W29urM"
      },
      "source": [
        "A function is a block of code which only runs when it is called.\n",
        "\n",
        "You can pass data, known as parameters, into a function.\n",
        "\n",
        "A function can return data as a result. "
      ]
    },
    {
      "cell_type": "markdown",
      "metadata": {
        "id": "GD2hWVEj9urN"
      },
      "source": [
        "![image.png](data:image/png;base64,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)"
      ]
    },
    {
      "cell_type": "markdown",
      "metadata": {
        "id": "YtTf370T9urN"
      },
      "source": [
        "Let's say that we want to make a new operator called '*' where $x * y = x^2 + y^2 + (xy)^2$"
      ]
    },
    {
      "cell_type": "code",
      "execution_count": null,
      "metadata": {
        "id": "l9tbeGMC9urO"
      },
      "outputs": [],
      "source": [
        "#def func_name(parameter)\n",
        "#     return output\n",
        "\n",
        "def star(x, y):\n",
        "    star_output = (x**2) + (y**2) + (x*y)**2\n",
        "    return star_output"
      ]
    },
    {
      "cell_type": "code",
      "execution_count": null,
      "metadata": {
        "id": "-hrn09FE9urQ",
        "outputId": "f8d461b5-5351-434f-f618-a8581071c2cf"
      },
      "outputs": [
        {
          "data": {
            "text/plain": [
              "3"
            ]
          },
          "execution_count": 2,
          "metadata": {},
          "output_type": "execute_result"
        }
      ],
      "source": [
        "star(1, 1)"
      ]
    },
    {
      "cell_type": "code",
      "execution_count": null,
      "metadata": {
        "id": "bL8vY2BB9urS",
        "outputId": "a2cd2f27-e6a6-4d6c-efc5-1c0aa5e1e3e3"
      },
      "outputs": [
        {
          "data": {
            "text/plain": [
              "169"
            ]
          },
          "execution_count": 4,
          "metadata": {},
          "output_type": "execute_result"
        }
      ],
      "source": [
        "star(3, 4)"
      ]
    },
    {
      "cell_type": "markdown",
      "metadata": {
        "id": "BGW-pH4z9urS"
      },
      "source": [
        "Exercise: Define a function that determines the distance of any point of coordinate (x,y,z) from the origin. "
      ]
    },
    {
      "cell_type": "code",
      "execution_count": null,
      "metadata": {
        "id": "5Af5R1y-9urT"
      },
      "outputs": [],
      "source": [
        "def origin_distance(x, y, z):\n",
        "    distance = (x**2 + y**2 + z**2)**(1/2)\n",
        "    \n",
        "    return distance"
      ]
    },
    {
      "cell_type": "markdown",
      "metadata": {
        "id": "5joZen-u9urU"
      },
      "source": [
        "Determine the distance from the origin of the point:\n",
        "\n",
        "1. (1,2,3)\n",
        "2. (2,6,4)"
      ]
    },
    {
      "cell_type": "code",
      "execution_count": null,
      "metadata": {
        "colab": {
          "base_uri": "https://localhost:8080/"
        },
        "id": "DivO72ry9urU",
        "outputId": "409a750a-8119-412a-a29e-77c00f9ab24c"
      },
      "outputs": [
        {
          "output_type": "execute_result",
          "data": {
            "text/plain": [
              "3.7416573867739413"
            ]
          },
          "metadata": {},
          "execution_count": 4
        }
      ],
      "source": [
        "origin_distance(1, 2, 3)"
      ]
    },
    {
      "cell_type": "code",
      "execution_count": null,
      "metadata": {
        "colab": {
          "base_uri": "https://localhost:8080/"
        },
        "id": "AoQvOjBK9urV",
        "outputId": "a46f8de7-24ba-44ea-bdf2-a8baf5dffc5a"
      },
      "outputs": [
        {
          "output_type": "execute_result",
          "data": {
            "text/plain": [
              "7.483314773547883"
            ]
          },
          "metadata": {},
          "execution_count": 5
        }
      ],
      "source": [
        "origin_distance(2,6,4)"
      ]
    },
    {
      "cell_type": "code",
      "source": [
        "a = int(input(\"Input the x-coordinate:\"))\n",
        "b = int(input(\"Input the y-coordinate:\"))\n",
        "c = int(input(\"Input the z-coordinate:\"))\n",
        "\n",
        "\n",
        "print(f'The distance from the origin of the point {a,b,c} is {origin_distance(a,b,c)}')"
      ],
      "metadata": {
        "colab": {
          "base_uri": "https://localhost:8080/"
        },
        "id": "2FS3JBRxA6Wo",
        "outputId": "69cd2f35-c4b5-44f2-a382-025a0d63a084"
      },
      "execution_count": null,
      "outputs": [
        {
          "output_type": "stream",
          "name": "stdout",
          "text": [
            "Input the x-coordinate:2\n",
            "Input the y-coordinate:2\n",
            "Input the z-coordinate:2\n",
            "The distance from the origin of the point (2, 2, 2) is 3.4641016151377544\n"
          ]
        }
      ]
    },
    {
      "cell_type": "markdown",
      "metadata": {
        "id": "p9HxQlpL9urW"
      },
      "source": [
        "As you may observe, functions are efficient when performing repetitive tasks. "
      ]
    },
    {
      "cell_type": "code",
      "execution_count": null,
      "metadata": {
        "id": "s1m6vg3P9urW"
      },
      "outputs": [],
      "source": [
        ""
      ]
    }
  ],
  "metadata": {
    "kernelspec": {
      "display_name": "Python 3",
      "language": "python",
      "name": "python3"
    },
    "language_info": {
      "codemirror_mode": {
        "name": "ipython",
        "version": 3
      },
      "file_extension": ".py",
      "mimetype": "text/x-python",
      "name": "python",
      "nbconvert_exporter": "python",
      "pygments_lexer": "ipython3",
      "version": "3.8.3"
    },
    "colab": {
      "name": "Copy of Function_Tutorial.ipynb",
      "provenance": []
    }
  },
  "nbformat": 4,
  "nbformat_minor": 0
}