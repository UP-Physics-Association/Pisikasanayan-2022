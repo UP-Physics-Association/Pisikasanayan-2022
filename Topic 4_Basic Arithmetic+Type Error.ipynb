{
  "nbformat": 4,
  "nbformat_minor": 0,
  "metadata": {
    "colab": {
      "name": "Python_Meeting3: Basic Arithmetic and Type errors.ipynb",
      "provenance": [],
      "collapsed_sections": []
    },
    "kernelspec": {
      "name": "python3",
      "display_name": "Python 3"
    },
    "language_info": {
      "name": "python"
    }
  },
  "cells": [
    {
      "cell_type": "markdown",
      "metadata": {
        "id": "zEsYtke2cZHo"
      },
      "source": [
        "# **NUMBERS**\n"
      ]
    },
    {
      "cell_type": "markdown",
      "metadata": {
        "id": "b333wYkwcd0A"
      },
      "source": [
        "Numbers are used quite often in programming to keep score in games, rep- resent data in visualizations, store information in web applications, and so on. Python treats numbers in several different ways, depending on how they are being used. "
      ]
    },
    {
      "cell_type": "markdown",
      "metadata": {
        "id": "h_h3E1n9eXeV"
      },
      "source": [
        "**Integers**\n",
        "\n",
        "You can add `+`, subtract `-`, multiply `*`, and divide `/` integers in Python. "
      ]
    },
    {
      "cell_type": "code",
      "metadata": {
        "id": "ijGx5yfmcUU8"
      },
      "source": [
        "# Addition \n",
        "3 + 4"
      ],
      "execution_count": null,
      "outputs": []
    },
    {
      "cell_type": "code",
      "metadata": {
        "id": "5qMSTn6yexvT"
      },
      "source": [
        "x = 1 + 344\n",
        "print(x)"
      ],
      "execution_count": null,
      "outputs": []
    },
    {
      "cell_type": "code",
      "metadata": {
        "id": "hNyBuekLe56l"
      },
      "source": [
        "# Subtraction\n",
        "6 - 5"
      ],
      "execution_count": null,
      "outputs": []
    },
    {
      "cell_type": "code",
      "metadata": {
        "id": "Syi8Mv2Ee9fT"
      },
      "source": [
        "y = 56 - 89\n",
        "print(y)"
      ],
      "execution_count": null,
      "outputs": []
    },
    {
      "cell_type": "code",
      "metadata": {
        "id": "TOlThKtYmaPo"
      },
      "source": [
        "# Multiplication\n",
        "3*5"
      ],
      "execution_count": null,
      "outputs": []
    },
    {
      "cell_type": "code",
      "metadata": {
        "id": "MoPmZANzmjgO"
      },
      "source": [
        "print(x*y)"
      ],
      "execution_count": null,
      "outputs": []
    },
    {
      "cell_type": "code",
      "metadata": {
        "id": "7kmQw_iTmor3"
      },
      "source": [
        "# Division\n",
        "10/2"
      ],
      "execution_count": null,
      "outputs": []
    },
    {
      "cell_type": "code",
      "metadata": {
        "id": "fYV1pDBcmtkP"
      },
      "source": [
        "print(x/y)"
      ],
      "execution_count": null,
      "outputs": []
    },
    {
      "cell_type": "markdown",
      "metadata": {
        "id": "FK_sxdIjmxHE"
      },
      "source": [
        "\\\\\n",
        "\n",
        "Python also uses double asterisks `**` to denote exponents."
      ]
    },
    {
      "cell_type": "code",
      "metadata": {
        "colab": {
          "base_uri": "https://localhost:8080/"
        },
        "id": "O-YCx-0Gm4vR",
        "outputId": "98f64a0d-af4c-4449-fcc8-1d551d94a8c1"
      },
      "source": [
        "# Exponents\n",
        "3**2"
      ],
      "execution_count": null,
      "outputs": [
        {
          "output_type": "execute_result",
          "data": {
            "text/plain": [
              "9"
            ]
          },
          "metadata": {
            "tags": []
          },
          "execution_count": 10
        }
      ]
    },
    {
      "cell_type": "markdown",
      "metadata": {
        "id": "Xd61fXXVnp4N"
      },
      "source": [
        "\\\\\n",
        "\n",
        "Remainders can also be computed using `%` symbol."
      ]
    },
    {
      "cell_type": "code",
      "metadata": {
        "id": "bJTrjNbhnwSw"
      },
      "source": [
        "# Remainders using modulo operator\n",
        "10%3"
      ],
      "execution_count": null,
      "outputs": []
    },
    {
      "cell_type": "markdown",
      "metadata": {
        "id": "L33gulggn7Uw"
      },
      "source": [
        "\\\\\n",
        "\n",
        "Python supports the order of operations too, so you can use multiple operations in one expression. You can also use parentheses to modify the order of operations so Python can evaluate your expression in the order you specify."
      ]
    },
    {
      "cell_type": "code",
      "metadata": {
        "id": "OcaqzPtvn_Qi"
      },
      "source": [
        "# Multiple operations\n",
        "4 + (2 + 4)**2"
      ],
      "execution_count": null,
      "outputs": []
    },
    {
      "cell_type": "markdown",
      "metadata": {
        "id": "t82dFvOKoIXz"
      },
      "source": [
        "The spacing in these examples has no effect on how Python evaluates the expressions; it simply helps you more quickly spot the operations that have priority when you’re reading through the code."
      ]
    },
    {
      "cell_type": "markdown",
      "metadata": {
        "id": "zW6qA6u9pHKS"
      },
      "source": [
        "\\\\\n",
        "\n",
        "**Floats**\n",
        "\n",
        "Python calls any number with a decimal point a *float*. This term is used in most programming languages, and it refers to the fact that a decimal point can appear at any position in a number. Every programming language must be carefully designed to properly manage decimal numbers so numbers behave appropriately no matter where the decimal point appears."
      ]
    },
    {
      "cell_type": "markdown",
      "metadata": {
        "id": "GHIzP7zopYN8"
      },
      "source": [
        "For the most part, you can use decimals without worrying about how they behave. Simply enter the numbers you want to use, and Python will most likely do what you expect."
      ]
    },
    {
      "cell_type": "code",
      "metadata": {
        "id": "LEyAx0HNpbsu"
      },
      "source": [
        "0.1 + 0.3"
      ],
      "execution_count": null,
      "outputs": []
    },
    {
      "cell_type": "code",
      "metadata": {
        "id": "45s6KDlBphIx"
      },
      "source": [
        "3.45 - 2.1"
      ],
      "execution_count": null,
      "outputs": []
    },
    {
      "cell_type": "code",
      "metadata": {
        "id": "ObDnAKfJpkUB"
      },
      "source": [
        "1.1 * 3.212"
      ],
      "execution_count": null,
      "outputs": []
    },
    {
      "cell_type": "code",
      "metadata": {
        "id": "TLKCKLNJpnR5"
      },
      "source": [
        "3.6 / 0.6"
      ],
      "execution_count": null,
      "outputs": []
    },
    {
      "cell_type": "markdown",
      "metadata": {
        "id": "IjosMiyfpv4b"
      },
      "source": [
        "\\\\\n",
        "\n",
        "But be aware that you can sometimes get an arbitrary number of deci- mal places in your answer."
      ]
    },
    {
      "cell_type": "code",
      "metadata": {
        "id": "Xs2fyW-UpzRJ"
      },
      "source": [
        "0.1 + 0.2"
      ],
      "execution_count": null,
      "outputs": []
    },
    {
      "cell_type": "markdown",
      "metadata": {
        "id": "UFIAZVUep1fr"
      },
      "source": [
        "This happens in all languages and is of little concern. Python tries to find a way to represent the result as precisely as possible, which is sometimes difficult given how computers have to represent numbers internally. Just ignore the extra decimal places for now."
      ]
    },
    {
      "cell_type": "markdown",
      "metadata": {
        "id": "9mkntH6ep_uG"
      },
      "source": [
        "\\\\\n",
        "\n",
        "**Avoiding Type Errors with the `str()` function**\n",
        "\n",
        "Often, you’ll want to use a variable’s value within a message. For example, say you want to wish someone a happy birthday. You might write code\n",
        "like this:"
      ]
    },
    {
      "cell_type": "code",
      "metadata": {
        "id": "mwfu8Y2FqH8O"
      },
      "source": [
        "age = 18\n",
        "hbd_message = \"Happy \" + age + 'th Birthday!'\n",
        "\n",
        "print(hbd_message)"
      ],
      "execution_count": null,
      "outputs": []
    },
    {
      "cell_type": "markdown",
      "metadata": {
        "id": "1BJv9RvNqeRZ"
      },
      "source": [
        "You might expect this code to print the simple birthday greeting, `Happy\n",
        "18th Birthday!` But if you run this code, you’ll see that it generates an error. This is a *type error*. It means Python can't recognize the kind of information you're using. In the example above, an integer value was used. Python is not sure whether to represent it as a numerical value `23` or as the characters `2` and `3`. "
      ]
    },
    {
      "cell_type": "markdown",
      "metadata": {
        "id": "1DX0uTFqs_SU"
      },
      "source": [
        "When you use integers within strings like this, you need to specify explicitly that you want Python to use the inte- ger as a string of characters. You can do this by wrapping the variable in the `str()` function, which tells Python to represent non-string values as strings."
      ]
    },
    {
      "cell_type": "code",
      "metadata": {
        "id": "VmuBMfK4tCEO",
        "colab": {
          "base_uri": "https://localhost:8080/"
        },
        "outputId": "27390e98-2564-491b-d4ab-c90e9fb4f973"
      },
      "source": [
        "age = 23\n",
        "hbd_message = \"Happy \" + str(age) + \"rd Birthday!\"\n",
        "\n",
        "print(hbd_message)"
      ],
      "execution_count": null,
      "outputs": [
        {
          "output_type": "stream",
          "name": "stdout",
          "text": [
            "Happy 23rd Birthday!\n"
          ]
        }
      ]
    },
    {
      "cell_type": "markdown",
      "metadata": {
        "id": "5gPcn-0ftYMT"
      },
      "source": [
        "Python now knows that you want to convert the numerical value `23` to a string and display the characters `2` and `3` as part of the birthday message."
      ]
    },
    {
      "cell_type": "markdown",
      "metadata": {
        "id": "KaPkMVQmuNv-"
      },
      "source": [
        "\\\\\n",
        "\n",
        "**Comments**\n",
        "\n",
        "Comments are an extremely useful feature in most programming languages. Everything you’ve written in your programs so far is Python code. As your programs become longer and more complicated, you should add notes within your programs that describe your overall approach to the problem you’re solving. A *comment* allows you to write notes in English within your programs."
      ]
    },
    {
      "cell_type": "markdown",
      "metadata": {
        "id": "eZjM1TL1vqM0"
      },
      "source": [
        "In Python, the hash mark (#) indicates a comment. Anything following a hash mark in your code is ignored by the Python interpreter."
      ]
    },
    {
      "cell_type": "code",
      "metadata": {
        "id": "yWqu8izevpqT"
      },
      "source": [
        "# Say hello to everyone. \n",
        "#cjaskvkajfvaj;vajvnckm;mcvasv'avlawnveq673r9p8qaljsdhgosvpdhpbse1234567890-=!@#$%^&*()_+\n",
        "print(\"Hello Python people\")"
      ],
      "execution_count": null,
      "outputs": []
    },
    {
      "cell_type": "markdown",
      "metadata": {
        "id": "o0o0tDUYzkY1"
      },
      "source": [
        "# **EXERCISES**"
      ]
    },
    {
      "cell_type": "markdown",
      "metadata": {
        "id": "OhKUxKxNzq4E"
      },
      "source": [
        "Perform the following using Python:\n",
        "\n",
        "1. Find the value of this expression: $\\displaystyle 1 + 2 - 3 + 4 - 5 + 6^{2} - \\sqrt{7} + \\sqrt[5]{\\frac{4 - 6 \\cdot 7^2}{3}}$\n",
        "2. Find the value of the expression: $\\displaystyle \\sqrt[3]{\\left(\\frac{3 \\cdot 6^{2^{3}}}{4 - 2^{5}}\\right)^{\\frac{1}{4}}}$"
      ]
    },
    {
      "cell_type": "code",
      "metadata": {
        "id": "hhpT83XQRdr6"
      },
      "source": [
        ""
      ],
      "execution_count": null,
      "outputs": []
    }
  ]
}