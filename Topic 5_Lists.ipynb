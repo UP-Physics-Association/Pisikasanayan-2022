{
  "nbformat": 4,
  "nbformat_minor": 0,
  "metadata": {
    "colab": {
      "name": "PISIKAsanayan_Python_Lists.ipynb",
      "provenance": [],
      "collapsed_sections": [
        "r2vIfqMGULhF"
      ]
    },
    "kernelspec": {
      "name": "python3",
      "display_name": "Python 3"
    },
    "language_info": {
      "name": "python"
    }
  },
  "cells": [
    {
      "cell_type": "markdown",
      "source": [
        "## **LISTS**\n",
        "\n",
        "\n",
        "\n",
        "* **What's a list?**\n",
        "* **Accessing elements in a list**\n",
        "* **Slicing a list**\n",
        "* **List methods**\n",
        "* **List Comperehension**\n",
        "\n",
        "\n"
      ],
      "metadata": {
        "id": "w5FlZBS9fAqA"
      }
    },
    {
      "cell_type": "markdown",
      "source": [
        "## *What's a list?*\n",
        "\n"
      ],
      "metadata": {
        "id": "r2vIfqMGULhF"
      }
    },
    {
      "cell_type": "markdown",
      "source": [
        "A list is simply a collection items. In Python, a list is made by separating items with a comma `,` and enclosing it with square brackets `[]`. "
      ],
      "metadata": {
        "id": "87p0Pcwc9Igd"
      }
    },
    {
      "cell_type": "code",
      "source": [
        "# A list of names\n",
        "\n",
        "names = [\"Marin\", \"Wakana\", \"Sajuna\", \"Kaoru\", \"Shinju\", \"Nowa\"]\n",
        "\n",
        "print(names)"
      ],
      "metadata": {
        "id": "O6Bv5k98UdYv"
      },
      "execution_count": null,
      "outputs": []
    },
    {
      "cell_type": "code",
      "source": [
        "# A list of certain numbers\n",
        "\n",
        "numbers = [1, 15, 21, 36, 44, 57, 68]\n",
        "\n",
        "print(numbers)"
      ],
      "metadata": {
        "id": "ztLyCXFnu1mK"
      },
      "execution_count": null,
      "outputs": []
    },
    {
      "cell_type": "code",
      "source": [
        "# A list of mixed data types \n",
        "\n",
        "mixed = [11, 14.34, \"George\", \"Savannah\", True, False]\n",
        "\n",
        "print(mixed)"
      ],
      "metadata": {
        "id": "plmF-nVPwnSi"
      },
      "execution_count": null,
      "outputs": []
    },
    {
      "cell_type": "markdown",
      "source": [
        "## *Accessing elements in a list*"
      ],
      "metadata": {
        "id": "rYOi5Kac9MVM"
      }
    },
    {
      "cell_type": "markdown",
      "source": [
        "\n",
        "\n",
        "Items in a list are called ***elements***. Each element has an ***index*** number that indicates its position in the list. Consider the following list of fruits:\n",
        "\n",
        "\n",
        "```\n",
        "[\"apple\", \"banana\", \"orange\", \"strawberry\", \"watermelon\", \"mango\"]\n",
        "```\n",
        "\n",
        "The element `\"apple\"` is at index `0`.\n",
        "\n",
        "The element `\"banana\"` is at index `1`. \n",
        "\n",
        "The element `\"mango\"` is at index `5`.\n",
        "\n",
        "Indexing starts at $0$ and ends at $N-1$, where $N$ is the total number of elements present in the list. An element in a list can be accessed by calling the name of the list followed by the index number of the element and enclosing it in square brackets.\n",
        " "
      ],
      "metadata": {
        "id": "gMl5UTfXwcnG"
      }
    },
    {
      "cell_type": "code",
      "source": [
        "# Recall our previous lists:\n",
        "\n",
        "names = [\"Marin\", \"Wakana\", \"Sajuna\", \"Kaoru\", \"Shinju\", \"Nowa\"]\n",
        "numbers = [1, 15, 21, 36, 44, 57, 68]\n",
        "mixed = [11, 14.34, \"George\", \"Savannah\", True, False]\n",
        "\n",
        "# Access the 5th element in each list. Remember, the 5th element corresponds to index 4.\n",
        "\n",
        "print(names[4])\n",
        "\n",
        "print(numbers[4])\n",
        "\n",
        "print(mixed[4])"
      ],
      "metadata": {
        "id": "ea26O-O7xIKV"
      },
      "execution_count": null,
      "outputs": []
    },
    {
      "cell_type": "markdown",
      "source": [
        "Elements in a list can also be accessed using ***negative indexing***. Using `-1` as an index to access an element returns the last element in a list. Meanwhile, using `-2` as an index returns the second to the last element in a list. Consider our previous list of fruits:\n",
        "\n",
        "```\n",
        "[\"apple\", \"banana\", \"orange\", \"strawberry\", \"watermelon\", \"mango\"]\n",
        "```\n",
        "\n",
        "The element `\"mango\"` is at index `-1`. \n",
        "\n",
        "The element `\"watermelon\"` is at index `-2`. \n",
        "\n",
        "Following this pattern, we can see that an element can be accessed using regular indexing or using a negative indexing.\n",
        "\n",
        "The element `\"apple\"` is at index `0` or `-6`.\n",
        "\n",
        "The element `\"orange\"` is at index `2` or `-4`.\n",
        "\n",
        "The element `\"mango\"` is at index `5` or `-1`."
      ],
      "metadata": {
        "id": "ipzJMDLV52sY"
      }
    },
    {
      "cell_type": "code",
      "source": [
        "# Access the last element in each list. \n",
        "\n",
        "names = [\"Marin\", \"Wakana\", \"Sajuna\", \"Kaoru\", \"Shinju\", \"Nowa\"]\n",
        "numbers = [1, 15, 21, 36, 44, 57, 68]\n",
        "mixed = [11, 14.34, \"George\", \"Savannah\", True, False]\n",
        "\n",
        "# Using negative indexing:\n",
        "\n",
        "print(names[-1])\n",
        "print(numbers[-1])\n",
        "print(mixed[-1])"
      ],
      "metadata": {
        "id": "zlfMgd3b8Nuj"
      },
      "execution_count": null,
      "outputs": []
    },
    {
      "cell_type": "markdown",
      "source": [
        "## *Slicing a list*"
      ],
      "metadata": {
        "id": "rI70NvAy9iT0"
      }
    },
    {
      "cell_type": "markdown",
      "source": [
        "We can also access multiple elements at a certain range in our list and this is called ***slicing*** a list. To slice a list, we employ the following syntax:\n",
        "\n",
        "```\n",
        "list_name[start_index : stop_index]\n",
        "```\n",
        "\n",
        "Let us take a look at the following code cell."
      ],
      "metadata": {
        "id": "rZP_0Djc9mHK"
      }
    },
    {
      "cell_type": "code",
      "source": [
        "# Access only the first three names in the list.\n",
        "\n",
        "names = [\"Marin\", \"Wakana\", \"Sajuna\", \"Kaoru\", \"Shinju\", \"Nowa\"]\n",
        "\n",
        "# Slice\n",
        "\n",
        "print(names[0:3])"
      ],
      "metadata": {
        "colab": {
          "base_uri": "https://localhost:8080/"
        },
        "id": "wj0oFYsWBP1j",
        "outputId": "b3fc40ec-ab75-4de6-8c08-bcfec374753b"
      },
      "execution_count": 18,
      "outputs": [
        {
          "output_type": "stream",
          "name": "stdout",
          "text": [
            "['Marin', 'Wakana', 'Sajuna']\n"
          ]
        }
      ]
    },
    {
      "cell_type": "markdown",
      "source": [
        "We started slicing at index `0` which corresponds to the element `\"Marin\"`. The list ended at the element `\"Sajuna\"` which is at index `2`. This means that when we slice a list, we obtain the element of the `start_index` and the element before the `stop_index`. \n",
        "\n",
        "When the starting index is left blank, Python starts at the beginning index. If the stop index is left blank, the last element of the list is included in the slice."
      ],
      "metadata": {
        "id": "_sU8W8v6BpD0"
      }
    },
    {
      "cell_type": "code",
      "source": [
        "# Access only the first three names in the list.\n",
        "\n",
        "# Blank start index\n",
        "\n",
        "print(names[:3])"
      ],
      "metadata": {
        "id": "CQISxUO5DVqo"
      },
      "execution_count": null,
      "outputs": []
    },
    {
      "cell_type": "code",
      "source": [
        "# Blank stop index\n",
        "\n",
        "print(names[3:])"
      ],
      "metadata": {
        "id": "L1ENdTINDg2J"
      },
      "execution_count": null,
      "outputs": []
    },
    {
      "cell_type": "code",
      "source": [
        "# Blank start index and blank stop index\n",
        "\n",
        "print(names[:])"
      ],
      "metadata": {
        "id": "gVDvWbg2EHn1"
      },
      "execution_count": null,
      "outputs": []
    },
    {
      "cell_type": "markdown",
      "source": [
        "## *List methods*"
      ],
      "metadata": {
        "id": "6OGmZa-8ExKs"
      }
    },
    {
      "cell_type": "markdown",
      "source": [
        "We can add an element in a list by using the `.append()` method, which is shown as follows:"
      ],
      "metadata": {
        "id": "bKcQyQBpF8vm"
      }
    },
    {
      "cell_type": "code",
      "source": [
        "# Recall our previous lists:\n",
        "\n",
        "names = [\"Marin\", \"Wakana\", \"Sajuna\", \"Kaoru\", \"Shinju\", \"Nowa\"]\n",
        "numbers = [1, 15, 21, 36, 44, 57, 68]\n",
        "mixed = [11, 14.34, \"George\", \"Savannah\", True, False]\n",
        "\n",
        "# Let's try to add the number 100 in the numbers list\n",
        "\n",
        "numbers.append(100)\n",
        "\n",
        "print(numbers)"
      ],
      "metadata": {
        "id": "SMxU8migGsCq"
      },
      "execution_count": null,
      "outputs": []
    },
    {
      "cell_type": "markdown",
      "source": [
        "A ***method*** is an action that can be performed on a list (also on other data). The `.append(100)` means to add `100` at the end of the `numbers` list. This section shows different methods that can be performed on lists."
      ],
      "metadata": {
        "id": "Gvm1pve9G7lK"
      }
    },
    {
      "cell_type": "markdown",
      "source": [
        " `clear()`\n",
        "\n",
        "This method removes all the elements in the list."
      ],
      "metadata": {
        "id": "xcOtLLSPHgOx"
      }
    },
    {
      "cell_type": "code",
      "source": [
        "animals = [\"bear\", \"owl\", \"dog\"]\n",
        "\n",
        "print(animals)\n",
        "\n",
        "animals.clear()\n",
        "\n",
        "print(animals)"
      ],
      "metadata": {
        "id": "I5oXh_CqINxM"
      },
      "execution_count": null,
      "outputs": []
    },
    {
      "cell_type": "markdown",
      "source": [
        "`count()`\n",
        "\n",
        "Returns the number of elements of the specified value."
      ],
      "metadata": {
        "id": "pdciPQM1Innz"
      }
    },
    {
      "cell_type": "code",
      "source": [
        "# List with repeating elements\n",
        "\n",
        "repeated = [1, 1, 1, 1, 3, 4, 5, 5, 7, 8, 9, 10, 10, 22, 22]\n",
        "\n",
        "print(repeated.count(5))"
      ],
      "metadata": {
        "id": "hQflz5z8I1RC"
      },
      "execution_count": null,
      "outputs": []
    },
    {
      "cell_type": "markdown",
      "source": [
        "`index()`\n",
        "\n",
        "Returns the index of the specified element in the list."
      ],
      "metadata": {
        "id": "ghrg-0CoKY8A"
      }
    },
    {
      "cell_type": "code",
      "source": [
        "# List with mixed types\n",
        "mixed = [11, 14.34, \"George\", \"Savannah\", True, False]\n",
        "\n",
        "print(mixed.index(True))"
      ],
      "metadata": {
        "id": "HvWcs34ZKg7O"
      },
      "execution_count": null,
      "outputs": []
    },
    {
      "cell_type": "markdown",
      "source": [
        "`insert()`\n",
        "\n",
        "Inserts an element at a specified index."
      ],
      "metadata": {
        "id": "-a6BI5Z0KsKt"
      }
    },
    {
      "cell_type": "code",
      "source": [
        "# List of names\n",
        "\n",
        "names = [\"Marin\", \"Wakana\", \"Sajuna\", \"Kaoru\", \"Shinju\", \"Nowa\"]\n",
        "\n",
        "# Insert an element at index 2\n",
        "\n",
        "names.insert(2, \"Tanjiro\")\n",
        "\n",
        "print(names)"
      ],
      "metadata": {
        "id": "YTCNtN7-K1Lo"
      },
      "execution_count": null,
      "outputs": []
    },
    {
      "cell_type": "markdown",
      "source": [
        "`pop()`\n",
        "\n",
        "Removes element at a specified index number"
      ],
      "metadata": {
        "id": "w97M6TdlLqrD"
      }
    },
    {
      "cell_type": "code",
      "source": [
        "# List of names\n",
        "\n",
        "names = [\"Marin\", \"Wakana\", \"Sajuna\", \"Kaoru\", \"Shinju\", \"Nowa\"]\n",
        "\n",
        "# Remove element at index 4\n",
        "\n",
        "names.pop(4)\n",
        "\n",
        "print(names)"
      ],
      "metadata": {
        "id": "dlTUO7V5LxPB"
      },
      "execution_count": null,
      "outputs": []
    },
    {
      "cell_type": "markdown",
      "source": [
        "`remove()`\n",
        "\n",
        "Removes the specified element"
      ],
      "metadata": {
        "id": "Y6UYsMIuL6fU"
      }
    },
    {
      "cell_type": "code",
      "source": [
        "# List of names\n",
        "\n",
        "names = [\"Marin\", \"Wakana\", \"Sajuna\", \"Kaoru\", \"Shinju\", \"Nowa\"]\n",
        "\n",
        "# Remove Sajuna from the list\n",
        "\n",
        "names.remove(\"Sajuna\")\n",
        "\n",
        "print(names)"
      ],
      "metadata": {
        "id": "YxslB3epMB2N"
      },
      "execution_count": null,
      "outputs": []
    },
    {
      "cell_type": "code",
      "source": [
        "# List with repeating elements\n",
        "\n",
        "repeated = [1, 1, 1, 1, 3, 4, 5, 5, 7, 8, 9, 10, 10, 22, 22]\n",
        "\n",
        "repeated.remove(5)\n",
        "\n",
        "print(repeated)"
      ],
      "metadata": {
        "id": "fmzyEg0pMWQH"
      },
      "execution_count": null,
      "outputs": []
    },
    {
      "cell_type": "markdown",
      "source": [
        "`reverse()`\n",
        "\n",
        "Returns a list that is in reverse order of the original list."
      ],
      "metadata": {
        "id": "q2T2TmJ-MpZ9"
      }
    },
    {
      "cell_type": "code",
      "source": [
        "mixed = [11, 14.34, \"George\", \"Savannah\", True, False]\n",
        "\n",
        "mixed.reverse()\n",
        "\n",
        "print(mixed)"
      ],
      "metadata": {
        "id": "pYx8cv-uM1Iu"
      },
      "execution_count": null,
      "outputs": []
    },
    {
      "cell_type": "markdown",
      "source": [
        "`sort()`\n",
        "\n",
        "Sorts the list at a particular order."
      ],
      "metadata": {
        "id": "XOJnslZ6M9aK"
      }
    },
    {
      "cell_type": "code",
      "source": [
        "# Previous lists\n",
        "\n",
        "names = [\"Marin\", \"Wakana\", \"Sajuna\", \"Kaoru\", \"Shinju\", \"Nowa\"]\n",
        "numbers = [1, 15, 21, 36, 44, 57, 68]\n",
        "mixed = [11, 14.34, \"George\", \"Savannah\", True, False]\n",
        "\n",
        "names.sort()\n",
        "print(names)\n",
        "\n",
        "numbers.sort()\n",
        "print(numbers)\n",
        "\n"
      ],
      "metadata": {
        "id": "NFI9bu1xNCgG"
      },
      "execution_count": null,
      "outputs": []
    },
    {
      "cell_type": "markdown",
      "source": [
        "# *List Comprehension*"
      ],
      "metadata": {
        "id": "ubCxiW1nOpDe"
      }
    },
    {
      "cell_type": "markdown",
      "source": [
        "There will be times when making lists become a tiresome job, especially when you have to manually type the elements. Such challenge can be aided by using a ***list comprehension***.\n",
        "\n",
        "List comprehensions also follow the list syntax but instead of elements, it contains a `for` loop and `if`-`else` statements. It usually follows the format `list_comprehension = [expression for elements in list]`.\n",
        "\n",
        "In some cases, list comprehensions act as a more compact `for` loop."
      ],
      "metadata": {
        "id": "xkewGMFiOsdd"
      }
    },
    {
      "cell_type": "code",
      "source": [
        "# Generate a list of the first 20 perfect squares\n",
        "\n",
        "squares = [x**2 for x in range(0,21)]\n",
        "\n",
        "print(squares)"
      ],
      "metadata": {
        "id": "jRKM7hmaXAcB"
      },
      "execution_count": null,
      "outputs": []
    },
    {
      "cell_type": "code",
      "source": [
        "# Generate a the names list but this time, all strings should be in uppercase format\n",
        "\n",
        "names = [\"Marin\", \"Wakana\", \"Sajuna\", \"Kaoru\", \"Shinju\", \"Nowa\"]\n",
        "\n",
        "uppercased = [the_name.upper() for the_name in names]\n",
        "\n",
        "print(uppercased)"
      ],
      "metadata": {
        "id": "dJekpTDTXRgD"
      },
      "execution_count": null,
      "outputs": []
    },
    {
      "cell_type": "code",
      "source": [
        "# Generate a list of the first 100 multiples of 7\n",
        "\n",
        "import numpy as np\n",
        "\n",
        "mults_7 = [x for x in np.arange(7,701) if x%7 == 0]\n",
        "\n",
        "print(mults_7)"
      ],
      "metadata": {
        "id": "bMEsG8_KX95W"
      },
      "execution_count": null,
      "outputs": []
    },
    {
      "cell_type": "code",
      "source": [
        "# Fibonacci sequence using a list comprehension. We see here that a list comprehension can act as an independent for loop\n",
        "\n",
        "n = 20\n",
        "fib = [0, 1]\n",
        "\n",
        "[fib.append(sum(fib[-2:])) for x in range(n)]\n",
        "\n",
        "print(fib[:n])"
      ],
      "metadata": {
        "id": "iBlmy_ZfY2uj"
      },
      "execution_count": null,
      "outputs": []
    },
    {
      "cell_type": "markdown",
      "source": [
        "# TAKE HOME CODING EXERCISES\n",
        "\n",
        "Try answering these exercises based on what you've learned so far. Happy Coding!"
      ],
      "metadata": {
        "id": "HrxVV3-xZhnA"
      }
    },
    {
      "cell_type": "markdown",
      "source": [
        "\n",
        "\n",
        "1.   Make a list of the first 500 multiples of 8. How many of these are divisible by 3?\n",
        "\n"
      ],
      "metadata": {
        "id": "yCOUwNzpZlDd"
      }
    },
    {
      "cell_type": "code",
      "source": [
        "# Answer here\n",
        "\n"
      ],
      "metadata": {
        "id": "S_AsODkecWf6"
      },
      "execution_count": null,
      "outputs": []
    },
    {
      "cell_type": "markdown",
      "source": [
        "-----------------"
      ],
      "metadata": {
        "id": "d6VV2MsGjQvD"
      }
    },
    {
      "cell_type": "markdown",
      "source": [
        "2. A survey is done on $1000$ people regarding regarding their favorite color. Their responses are recorded on a list named `colors` in the following code cell."
      ],
      "metadata": {
        "id": "k2vx4u7pcZiH"
      }
    },
    {
      "cell_type": "code",
      "source": [
        "# List of the favorite colors of 1000 people\n",
        "\n",
        "colors = [\"orange\",\"green\",\"pink\",\"yellow\",\"green\",\"blue\",\"yellow\",\"pink\",\"violet\",\"pink\",\"pink\",\"pink\",\"pink\",\"orange\",\"violet\",\"blue\",\"orange\",\"pink\",\"green\",\"pink\",\"pink\",\"pink\",\"green\",\"orange\",\"pink\",\"white\",\"pink\",\"violet\",\"pink\",\"yellow\",\"pink\",\"pink\",\"pink\",\"violet\",\"pink\",\"red\",\"pink\",\"pink\",\"yellow\",\"yellow\",\"green\",\"yellow\",\"green\",\"yellow\",\"yellow\",\"yellow\",\"green\",\"green\",\"pink\",\"violet\",\"orange\",\"violet\",\"yellow\",\"green\",\"orange\",\"pink\",\"orange\",\"pink\",\"white\",\"pink\",\"pink\",\"yellow\",\"pink\",\"pink\",\"green\",\"pink\",\"pink\",\"violet\",\"violet\",\"orange\",\"violet\",\"pink\",\"pink\",\"violet\",\"orange\",\"orange\",\"yellow\",\"orange\",\"yellow\",\"green\",\"pink\",\"orange\",\"yellow\",\"orange\",\"pink\",\"green\",\"pink\",\"pink\",\"yellow\",\"white\",\"pink\",\"white\",\"orange\",\"yellow\",\"blue\",\"green\",\"green\",\"pink\",\"green\",\"green\",\"yellow\",\"pink\",\"pink\",\"blue\",\"green\",\"pink\",\"green\",\"pink\",\"yellow\",\"pink\",\"violet\",\"pink\",\"pink\",\"pink\",\"green\",\"pink\",\"pink\",\"pink\",\"blue\",\"pink\",\"violet\",\"blue\",\"green\",\"white\",\"red\",\"blue\",\"red\",\"pink\",\"orange\",\"green\",\"pink\",\"green\",\"green\",\"red\",\"green\",\"white\",\"yellow\",\"pink\",\"orange\",\"pink\",\"white\",\"orange\",\"pink\",\"pink\",\"green\",\"green\",\"white\",\"pink\",\"blue\",\"violet\",\"pink\",\"pink\",\"white\",\"pink\",\"pink\",\"red\",\"pink\",\"pink\",\"pink\",\"pink\",\"white\",\"violet\",\"green\",\"pink\",\"pink\",\"orange\",\"pink\",\"yellow\",\"green\",\"pink\",\"pink\",\"pink\",\"green\",\"pink\",\"yellow\",\"pink\",\"pink\",\"pink\",\"orange\",\"green\",\"pink\",\"green\",\"yellow\",\"pink\",\"pink\",\"blue\",\"green\",\"green\",\"red\",\"yellow\",\"pink\",\"green\",\"pink\",\"violet\",\"pink\",\"green\",\"red\",\"pink\",\"green\",\"orange\",\"pink\",\"green\",\"pink\",\"yellow\",\"pink\",\"red\",\"green\",\"green\",\"yellow\",\"pink\",\"red\",\"yellow\",\"pink\",\"orange\",\"green\",\"red\",\"green\",\"white\",\"pink\",\"green\",\"green\",\"green\",\"white\",\"pink\",\"white\",\"pink\",\"pink\",\"green\",\"pink\",\"pink\",\"green\",\"red\",\"pink\",\"pink\",\"yellow\",\"pink\",\"pink\",\"pink\",\"pink\",\"pink\",\"blue\",\"pink\",\"pink\",\"pink\",\"pink\",\"pink\",\"green\",\"green\",\"red\",\"pink\",\"green\",\"orange\",\"green\",\"blue\",\"pink\",\"pink\",\"pink\",\"pink\",\"white\",\"orange\",\"red\",\"pink\",\"pink\",\"green\",\"orange\",\"green\",\"blue\",\"pink\",\"yellow\",\"pink\",\"pink\",\"yellow\",\"pink\",\"pink\",\"blue\",\"pink\",\"pink\",\"violet\",\"orange\",\"pink\",\"pink\",\"violet\",\"pink\",\"yellow\",\"pink\",\"orange\",\"pink\",\"yellow\",\"yellow\",\"orange\",\"green\",\"violet\",\"pink\",\"orange\",\"pink\",\"blue\",\"pink\",\"green\",\"pink\",\"pink\",\"pink\",\"pink\",\"pink\",\"green\",\"blue\",\"white\",\"yellow\",\"pink\",\"orange\",\"pink\",\"yellow\",\"violet\",\"green\",\"orange\",\"pink\",\"blue\",\"orange\",\"blue\",\"violet\",\"blue\",\"pink\",\"blue\",\"pink\",\"violet\",\"pink\",\"pink\",\"violet\",\"green\",\"yellow\",\"white\",\"pink\",\"red\",\"violet\",\"orange\",\"pink\",\"violet\",\"pink\",\"pink\",\"yellow\",\"orange\",\"white\",\"orange\",\"red\",\"yellow\",\"yellow\",\"pink\",\"white\",\"green\",\"pink\",\"yellow\",\"pink\",\"yellow\",\"pink\",\"orange\",\"yellow\",\"yellow\",\"pink\",\"yellow\",\"violet\",\"white\",\"green\",\"pink\",\"orange\",\"orange\",\"violet\",\"blue\",\"red\",\"green\",\"blue\",\"blue\",\"green\",\"green\",\"pink\",\"green\",\"pink\",\"pink\",\"green\",\"green\",\"yellow\",\"blue\",\"white\",\"violet\",\"pink\",\"violet\",\"yellow\",\"red\",\"pink\",\"orange\",\"blue\",\"yellow\",\"violet\",\"yellow\",\"pink\",\"orange\",\"pink\",\"white\",\"green\",\"pink\",\"green\",\"yellow\",\"yellow\",\"pink\",\"white\",\"orange\",\"green\",\"yellow\",\"orange\",\"pink\",\"pink\",\"green\",\"orange\",\"yellow\",\"white\",\"violet\",\"pink\",\"red\",\"yellow\",\"white\",\"violet\",\"white\",\"green\",\"pink\",\"pink\",\"blue\",\"violet\",\"pink\",\"violet\",\"pink\",\"pink\",\"pink\",\"pink\",\"pink\",\"violet\",\"orange\",\"yellow\",\"orange\",\"pink\",\"pink\",\"violet\",\"red\",\"pink\",\"pink\",\"pink\",\"pink\",\"pink\",\"pink\",\"pink\",\"white\",\"pink\",\"green\",\"green\",\"green\",\"pink\",\"pink\",\"blue\",\"green\",\"pink\",\"pink\",\"green\",\"orange\",\"pink\",\"green\",\"green\",\"white\",\"violet\",\"pink\",\"violet\",\"white\",\"pink\",\"green\",\"blue\",\"white\",\"yellow\",\"orange\",\"pink\",\"blue\",\"blue\",\"pink\",\"pink\",\"pink\",\"pink\",\"green\",\"green\",\"pink\",\"pink\",\"pink\",\"yellow\",\"green\",\"pink\",\"pink\",\"green\",\"blue\",\"pink\",\"pink\",\"green\",\"orange\",\"pink\",\"pink\",\"violet\",\"pink\",\"pink\",\"blue\",\"yellow\",\"red\",\"orange\",\"pink\",\"blue\",\"pink\",\"pink\",\"red\",\"pink\",\"blue\",\"white\",\"white\",\"blue\",\"green\",\"pink\",\"pink\",\"yellow\",\"pink\",\"pink\",\"violet\",\"pink\",\"green\",\"pink\",\"green\",\"pink\",\"violet\",\"yellow\",\"orange\",\"pink\",\"pink\",\"pink\",\"yellow\",\"pink\",\"pink\",\"pink\",\"pink\",\"pink\",\"pink\",\"pink\",\"green\",\"blue\",\"pink\",\"pink\",\"pink\",\"yellow\",\"pink\",\"green\",\"yellow\",\"violet\",\"orange\",\"pink\",\"pink\",\"pink\",\"pink\",\"pink\",\"pink\",\"orange\",\"pink\",\"blue\",\"orange\",\"pink\",\"green\",\"pink\",\"pink\",\"pink\",\"orange\",\"violet\",\"pink\",\"green\",\"green\",\"green\",\"orange\",\"orange\",\"red\",\"pink\",\"pink\",\"violet\",\"pink\",\"orange\",\"green\",\"red\",\"pink\",\"pink\",\"yellow\",\"red\",\"pink\",\"pink\",\"pink\",\"pink\",\"violet\",\"blue\",\"violet\",\"orange\",\"red\",\"green\",\"pink\",\"green\",\"orange\",\"green\",\"pink\",\"yellow\",\"orange\",\"yellow\",\"pink\",\"blue\",\"pink\",\"yellow\",\"pink\",\"white\",\"pink\",\"red\",\"orange\",\"green\",\"violet\",\"pink\",\"pink\",\"orange\",\"blue\",\"green\",\"white\",\"violet\",\"pink\",\"yellow\",\"pink\",\"green\",\"yellow\",\"yellow\",\"orange\",\"violet\",\"blue\",\"pink\",\"pink\",\"pink\",\"pink\",\"yellow\",\"pink\",\"green\",\"pink\",\"pink\",\"pink\",\"pink\",\"pink\",\"violet\",\"pink\",\"green\",\"red\",\"pink\",\"orange\",\"red\",\"pink\",\"yellow\",\"pink\",\"orange\",\"pink\",\"blue\",\"yellow\",\"pink\",\"pink\",\"white\",\"pink\",\"pink\",\"pink\",\"violet\",\"white\",\"orange\",\"pink\",\"pink\",\"red\",\"red\",\"yellow\",\"pink\",\"yellow\",\"pink\",\"pink\",\"yellow\",\"white\",\"green\",\"pink\",\"green\",\"violet\",\"pink\",\"yellow\",\"pink\",\"pink\",\"pink\",\"yellow\",\"violet\",\"pink\",\"red\",\"pink\",\"pink\",\"green\",\"pink\",\"white\",\"pink\",\"orange\",\"white\",\"pink\",\"pink\",\"green\",\"red\",\"orange\",\"yellow\",\"orange\",\"yellow\",\"green\",\"green\",\"orange\",\"pink\",\"violet\",\"white\",\"orange\",\"green\",\"blue\",\"yellow\",\"pink\",\"orange\",\"green\",\"orange\",\"yellow\",\"pink\",\"white\",\"yellow\",\"blue\",\"pink\",\"pink\",\"white\",\"yellow\",\"blue\",\"orange\",\"pink\",\"pink\",\"pink\",\"yellow\",\"pink\",\"red\",\"orange\",\"white\",\"pink\",\"pink\",\"orange\",\"violet\",\"violet\",\"yellow\",\"green\",\"orange\",\"yellow\",\"orange\",\"pink\",\"white\",\"pink\",\"pink\",\"blue\",\"pink\",\"blue\",\"pink\",\"pink\",\"violet\",\"pink\",\"blue\",\"pink\",\"blue\",\"yellow\",\"green\",\"blue\",\"violet\",\"yellow\",\"green\",\"green\",\"green\",\"pink\",\"green\",\"pink\",\"pink\",\"green\",\"pink\",\"pink\",\"yellow\",\"violet\",\"orange\",\"green\",\"pink\",\"pink\",\"pink\",\"orange\",\"green\",\"green\",\"pink\",\"white\",\"yellow\",\"yellow\",\"pink\",\"orange\",\"pink\",\"pink\",\"pink\",\"green\",\"orange\",\"pink\",\"white\",\"pink\",\"pink\",\"white\",\"green\",\"violet\",\"yellow\",\"blue\",\"pink\",\"violet\",\"green\",\"green\",\"pink\",\"blue\",\"pink\",\"orange\",\"pink\",\"pink\",\"green\",\"yellow\",\"pink\",\"orange\",\"orange\",\"red\",\"pink\",\"pink\",\"green\",\"white\",\"orange\",\"white\",\"orange\",\"pink\",\"orange\",\"pink\",\"pink\",\"orange\",\"yellow\",\"yellow\",\"red\",\"pink\",\"blue\",\"pink\",\"pink\",\"orange\",\"pink\",\"yellow\",\"pink\",\"blue\",\"pink\",\"white\",\"green\",\"pink\",\"pink\",\"green\",\"green\",\"pink\",\"green\",\"pink\",\"pink\",\"red\",\"pink\",\"pink\",\"pink\",\"blue\",\"pink\",\"green\",\"violet\",\"orange\",\"green\",\"pink\",\"red\",\"orange\",\"pink\",\"pink\",\"pink\",\"green\",\"orange\",\"orange\",\"green\",\"green\",\"red\",\"violet\",\"blue\",\"green\",\"pink\",\"pink\",\"red\",\"yellow\",\"blue\",\"pink\",\"pink\",\"pink\",\"blue\",\"pink\",\"white\",\"green\",\"red\",\"violet\",\"violet\",\"yellow\",\"red\",\"yellow\",\"white\",\"pink\",\"violet\",\"violet\",\"red\",\"green\",\"pink\",\"green\",\"yellow\",\"pink\",\"pink\",\"yellow\",\"yellow\",\"pink\",\"green\",\"red\",\"pink\",\"white\",\"pink\",\"orange\",\"green\",\"yellow\",\"pink\",\"green\",\"pink\",\"pink\",\"white\",\"pink\",\"blue\",\"pink\",\"pink\",\"orange\",\"pink\",\"green\",\"green\",\"pink\",\"pink\",\"red\",\"yellow\",\"violet\",\"pink\",\"yellow\",\"green\",\"red\",\"pink\",\"white\",\"green\",\"pink\",\"violet\",\"pink\",\"orange\",\"pink\",\"pink\",\"pink\",\"violet\",\"red\",\"pink\",\"red\",\"yellow\",\"white\",\"white\",\"orange\",\"pink\",\"orange\",\"green\",\"green\",\"violet\",\"pink\",\"orange\",\"white\",\"pink\",\"white\",\"pink\",\"pink\",\"pink\",\"yellow\",\"yellow\",\"pink\",\"red\",\"white\",\"pink\",\"green\",\"blue\",\"red\",\"green\",\"pink\",\"white\",\"orange\",\"pink\",\"yellow\",\"yellow\",\"yellow\",\"pink\",\"green\",\"blue\",\"red\",\"pink\"]"
      ],
      "metadata": {
        "id": "sLIjpab0dl0j"
      },
      "execution_count": null,
      "outputs": []
    },
    {
      "cell_type": "markdown",
      "source": [
        "Then, you used the following code to determine how many unique colors are there in the responses."
      ],
      "metadata": {
        "id": "IDP57MLyf8VU"
      }
    },
    {
      "cell_type": "code",
      "source": [
        "# Code to determine the unique colors. Press run to display the result at the output.\n",
        "\n",
        "import numpy as np\n",
        "\n",
        "print(np.unique(colors))"
      ],
      "metadata": {
        "colab": {
          "base_uri": "https://localhost:8080/"
        },
        "id": "AMXpe0LfgErv",
        "outputId": "3d356bf8-b0f7-4d13-c76b-0d2463b78817"
      },
      "execution_count": 14,
      "outputs": [
        {
          "output_type": "stream",
          "name": "stdout",
          "text": [
            "['blue' 'green' 'orange' 'pink' 'red' 'violet' 'white' 'yellow']\n"
          ]
        }
      ]
    },
    {
      "cell_type": "markdown",
      "source": [
        "As it turns out, the unique colors were blue, green, orange, pink, red, violet, white, and yellow. Write a code that determines how many people chose a color as their favorite.\n",
        "\n",
        "*Note that there are many ways to do this. As long as your code works, then it's correct!*"
      ],
      "metadata": {
        "id": "ydcmAFCagUx_"
      }
    },
    {
      "cell_type": "code",
      "source": [
        "# Begin coding here\n",
        "\n",
        "\n"
      ],
      "metadata": {
        "id": "cuVvQgQYjpA3"
      },
      "execution_count": null,
      "outputs": []
    },
    {
      "cell_type": "markdown",
      "source": [
        "What is the most picked color from the $1000$ respondents?"
      ],
      "metadata": {
        "id": "aLt6DAw2jqoN"
      }
    },
    {
      "cell_type": "markdown",
      "source": [
        "---------------"
      ],
      "metadata": {
        "id": "uIb-QHfgj22b"
      }
    },
    {
      "cell_type": "markdown",
      "source": [
        "3. Write the first 300 terms of a Fibonacci sequence whose starting values are 2 and 7 respectively."
      ],
      "metadata": {
        "id": "GH9C4imOj479"
      }
    },
    {
      "cell_type": "code",
      "source": [
        "# Write the code for the Fibonacci sequence here\n",
        "\n"
      ],
      "metadata": {
        "id": "HcB4rnMxj4K3"
      },
      "execution_count": null,
      "outputs": []
    },
    {
      "cell_type": "markdown",
      "source": [
        "Which of the following number(s) can be found in this sequence?\n",
        "\n",
        "a. 64066248295\n",
        "\n",
        "b. 12749505343522\n",
        "\n",
        "c. 175\n",
        "\n",
        "d. 137056635769571380462476\n",
        "\n",
        "e. 16856851844403887152818957"
      ],
      "metadata": {
        "id": "qvMjyK2JkIH4"
      }
    },
    {
      "cell_type": "markdown",
      "source": [
        "What are the last 10 numbers in this sequence? "
      ],
      "metadata": {
        "id": "aihQ_cF5mMhK"
      }
    }
  ]
}