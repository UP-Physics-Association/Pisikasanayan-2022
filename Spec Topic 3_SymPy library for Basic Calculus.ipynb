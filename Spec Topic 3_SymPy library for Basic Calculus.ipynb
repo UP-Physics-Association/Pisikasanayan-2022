{
  "nbformat": 4,
  "nbformat_minor": 0,
  "metadata": {
    "colab": {
      "name": "Python_Meeting2: Strings.ipynb",
      "provenance": [],
      "collapsed_sections": [
        "0evBeJ_HJrEb"
      ]
    },
    "kernelspec": {
      "name": "python3",
      "display_name": "Python 3"
    },
    "language_info": {
      "name": "python"
    }
  },
  "cells": [
    {
      "cell_type": "markdown",
      "metadata": {
        "id": "0evBeJ_HJrEb"
      },
      "source": [
        "# **Strings**"
      ]
    },
    {
      "cell_type": "markdown",
      "metadata": {
        "id": "vp9jx7UJJujx"
      },
      "source": [
        "Most programs involve defining and gathering data and then do something useful with it. Because of this, one will find it useful to first classify the different types of data. Today, the first data type that we will encounter is the string.\n",
        "\n",
        "A *string* is simply a series of characters. Anything that is enclosed in quotes is considered a string in Python. Single or double quotations may be used to quote strings."
      ]
    },
    {
      "cell_type": "code",
      "metadata": {
        "id": "DoKl_FgyPfZa"
      },
      "source": [
        "\"This is a string, I can use any characters here such as %, $, #, @, and more.\"\n",
        "\n",
        "'This one is also a string, this time enclosed in single quotation marks.'"
      ],
      "execution_count": null,
      "outputs": []
    },
    {
      "cell_type": "markdown",
      "metadata": {
        "id": "eVH19yX9LQLe"
      },
      "source": [
        "\\\\\n",
        "\n",
        "The use of single or quotation marks offer flexibility to the code. This allows us to also use quotes and apostrophes within the string."
      ]
    },
    {
      "cell_type": "code",
      "metadata": {
        "id": "gWejYnXSLui5"
      },
      "source": [
        "sample_1 = 'Yuu Otosaka asked \"What is the meaning of this?\"'\n",
        "\n",
        "sample_2 = \"The language 'Python' is actually named after Monty Python, not the snake.\"\n",
        "\n",
        "sample_3 = \"One of Python's strengths is its diverse and supportive community.\"\n",
        "\n",
        "print(sample_1)\n",
        "print(sample_2)\n",
        "print(sample_3)"
      ],
      "execution_count": null,
      "outputs": []
    },
    {
      "cell_type": "markdown",
      "metadata": {
        "id": "CuFhMm28Mej8"
      },
      "source": [
        "\\\\\n",
        "\n",
        "**Changing Case in a String with Methods**\n",
        "\n",
        "One of the simplest tasks you can do with strings is change the case of the words in a string. "
      ]
    },
    {
      "cell_type": "code",
      "metadata": {
        "id": "F8ruaEq5M7hZ"
      },
      "source": [
        "name = \"ada lovelace\"\n",
        "print(name.title())"
      ],
      "execution_count": null,
      "outputs": []
    },
    {
      "cell_type": "markdown",
      "metadata": {
        "id": "hVqlmRDeNCTQ"
      },
      "source": [
        "The example above shows the lowercase string `\"ada lovelace\"` stored in a variable named `name`. The method `title()` appears after the variable in the `print()` statement. A *method* is an action that Python can perform on a piece of data. The dot `.` after `name` in the `name.title()` tells Python to make the `title()` method act on the variable `name`. Every method is followed by a set of parentheses, because methods often need additional information to do their work. Such information are provided inside the parentheses. The `title()` function doesn't need any additional information, so its parentheses are empty. \n",
        "\n",
        "\\\\\n",
        "\n",
        "Several other useful methods are available for dealing with case as well. For example, you can change a string to all uppercase or all lowercase letters like this:"
      ]
    },
    {
      "cell_type": "code",
      "metadata": {
        "id": "SwjlyYlSOX2f"
      },
      "source": [
        "NAME = \"kEn KanEki\"\n",
        "\n",
        "print(NAME.upper())\n",
        "print(NAME.lower())"
      ],
      "execution_count": null,
      "outputs": []
    },
    {
      "cell_type": "markdown",
      "metadata": {
        "id": "xDonhWmaOvmW"
      },
      "source": [
        "The `.lower()` method is particularly useful in storing data. Many times you won’t want to trust the capitalization that your users provide, so you’ll convert strings to lowercase before storing them. Then when you want to display the information, you’ll use the case that makes the most sense for each string."
      ]
    },
    {
      "cell_type": "markdown",
      "metadata": {
        "id": "Lt1KUC6pPmQf"
      },
      "source": [
        "\\\\\n",
        "\n",
        "**Combining or Concatenating Strings**\n",
        "\n",
        "It’s often useful to combine strings. For example, you might want to store a first name and a last name in separate variables, and then combine them when you want to display someone’s full name:"
      ]
    },
    {
      "cell_type": "code",
      "metadata": {
        "id": "WHhdod3sP6Pl"
      },
      "source": [
        "first_name = \"Yuu\"\n",
        "last_name = 'Otosaka'\n",
        "full_name = first_name + \" \" + last_name\n",
        "\n",
        "print(full_name)"
      ],
      "execution_count": null,
      "outputs": []
    },
    {
      "cell_type": "markdown",
      "metadata": {
        "id": "UxjK0bzvQR3i"
      },
      "source": [
        "Python uses the symbol `+` to combine strings. In the above example, we used `+` to create a full name by combining `first_name`, a space `\" \"`, and a `last_name`. This method of combining strings is called *concatenation*. You can use concatenation to compose complete messages using the information you've stored in a variable."
      ]
    },
    {
      "cell_type": "code",
      "metadata": {
        "id": "qRtpF1JtSGUp"
      },
      "source": [
        "print(\"Hello, \" + full_name.title() + \"!\")"
      ],
      "execution_count": null,
      "outputs": []
    },
    {
      "cell_type": "markdown",
      "metadata": {
        "id": "RH7JRbHCSJ5H"
      },
      "source": [
        "You can use concatenation to compose a message and then store the entire message in a variable:"
      ]
    },
    {
      "cell_type": "code",
      "metadata": {
        "id": "0Q_lhDyXRyro"
      },
      "source": [
        "message = \"Hello, \" + full_name.title() + \"!\"\n",
        "print(message)"
      ],
      "execution_count": null,
      "outputs": []
    },
    {
      "cell_type": "markdown",
      "metadata": {
        "id": "pokdkXW_SoGP"
      },
      "source": [
        "\\\\\n",
        "\n",
        "**Adding Whitespace to Strings with Tabs or Newlines**\n",
        "\n",
        "In programming, *whitespace* refers to any nonprinting characters, such as spaces, tabs, and end-of-line symbols. Whitespaces can be used to organize your output so it's easier for users to read. \n",
        "\n"
      ]
    },
    {
      "cell_type": "markdown",
      "metadata": {
        "id": "LvvpxwG0TT-m"
      },
      "source": [
        "To add a tab to your text, use the character combination `\\t` like this:"
      ]
    },
    {
      "cell_type": "code",
      "metadata": {
        "id": "YZ81pKE2TkmB"
      },
      "source": [
        "print(\"Python\")\n",
        "print(\"\\tPython\")"
      ],
      "execution_count": null,
      "outputs": []
    },
    {
      "cell_type": "code",
      "metadata": {
        "id": "erumuE0RVC1b"
      },
      "source": [
        "# If the string is stored in a variable, we do it like this:\n",
        "\n",
        "print('\\t' + message)"
      ],
      "execution_count": null,
      "outputs": []
    },
    {
      "cell_type": "markdown",
      "metadata": {
        "id": "UwN23TpwUclF"
      },
      "source": [
        "\\\\\n",
        "\n",
        "You can also add a newline in a string using the character combination `\\n`:"
      ]
    },
    {
      "cell_type": "code",
      "metadata": {
        "id": "q5-pcLCkUlyP"
      },
      "source": [
        "print(\"Languages:\\nPython\\nC\\nJavaScript\")"
      ],
      "execution_count": null,
      "outputs": []
    },
    {
      "cell_type": "code",
      "metadata": {
        "id": "Bq8uoZUYVN3j"
      },
      "source": [
        "# If the string is stored in a variable, we do it like this:\n",
        "\n",
        "print(\"This is the message:\" + '\\n' + message)"
      ],
      "execution_count": null,
      "outputs": []
    },
    {
      "cell_type": "markdown",
      "metadata": {
        "id": "bs4cqJOcVeTZ"
      },
      "source": [
        "\\\\\n",
        "\n",
        "To make things more interesting, you can actually combine tabs and newlines in a single string. The string `\"\\n\\t\"` tells Python to move to a new line, and start the next line with a tab. "
      ]
    },
    {
      "cell_type": "code",
      "metadata": {
        "id": "jP7JM4-hVyc7"
      },
      "source": [
        "print(\"Languages:\\n\\tPython\\n\\tC\\n\\tJavaScript\")"
      ],
      "execution_count": null,
      "outputs": []
    },
    {
      "cell_type": "code",
      "metadata": {
        "id": "AKBjwj7oV1zv"
      },
      "source": [
        "# If the string is stored in a variable, we do it like this:\n",
        "\n",
        "print(\"Anime Character:\" + \"\\n\" + '\\t' + \"First Name: \" + first_name + \"\\n\" + '\\t' + \"Last Name: \" + last_name + \"\\n\" + \"\\t\" + \"Full Name: \" + full_name)"
      ],
      "execution_count": null,
      "outputs": []
    },
    {
      "cell_type": "markdown",
      "metadata": {
        "id": "dJEfWpXNWltv"
      },
      "source": [
        "Newlines and tabs are useful when organizing outputs resulting from just a few lines of code. "
      ]
    },
    {
      "cell_type": "markdown",
      "metadata": {
        "id": "8mlsIxnJWwy9"
      },
      "source": [
        "\\\\\n",
        "\n",
        "**Stripping Whitespace**\n",
        "\n",
        "Extra whitespace can be confusing in your programs. To programmers, `'python'` and `'python '` look pretty much the same. But to a program, they are two different strings. Python detects the extra space in `'python '` and considers it significant unless you tell it otherwise. Extra whitespaces can be confusing in much simpler situations as well. Fortunately, Python makes it easy to eliminate extraneous whitespace from data that people enter. "
      ]
    },
    {
      "cell_type": "markdown",
      "metadata": {
        "id": "6149cmzgYt9N"
      },
      "source": [
        "\n",
        "Python can look for extra whitespace on the right and left sides of a string. To ensure that no whitespace exists at the right end of a string, use the `.rstrip()` method."
      ]
    },
    {
      "cell_type": "code",
      "metadata": {
        "id": "BN2Nq_qlY3EA"
      },
      "source": [
        "fav_language = 'Python '\n",
        "fav_language"
      ],
      "execution_count": null,
      "outputs": []
    },
    {
      "cell_type": "code",
      "metadata": {
        "id": "2d0HwmFuZSB7"
      },
      "source": [
        "fav_language.rstrip()"
      ],
      "execution_count": null,
      "outputs": []
    },
    {
      "cell_type": "markdown",
      "metadata": {
        "id": "TCr9rXG-ZwKX"
      },
      "source": [
        "On a close inspection, you will realize that the extra space is only temporarily removed. If we ask for the value of `fav_language` again, we will still see the extra space."
      ]
    },
    {
      "cell_type": "code",
      "metadata": {
        "id": "xypLTEhpaHX8"
      },
      "source": [
        "fav_language"
      ],
      "execution_count": null,
      "outputs": []
    },
    {
      "cell_type": "markdown",
      "metadata": {
        "id": "8UiBxfnEaTfx"
      },
      "source": [
        "To remove the whitespace from the string permanently, you have to store the stripped value back into the variable. "
      ]
    },
    {
      "cell_type": "code",
      "metadata": {
        "id": "g71f8QnEbWU-"
      },
      "source": [
        "fav_language = fav_language.rstrip()\n",
        "fav_language"
      ],
      "execution_count": null,
      "outputs": []
    },
    {
      "cell_type": "markdown",
      "metadata": {
        "id": "1UkklxOubl3W"
      },
      "source": [
        "\\\\\n",
        "\n",
        "In the previous example, we used the method `.rstrip()` to remove the whitespace from the right side of the string. However, you can also remove whitespaces from the left side of the string using the `.lstrip()`. Also, you can strip whitespace from both sides at once using the method `.strip()`."
      ]
    },
    {
      "cell_type": "code",
      "metadata": {
        "id": "6mkG-i5YcP6O"
      },
      "source": [
        "fav_anime = \" Tokyo Ghoul \"\n",
        "fav_anime"
      ],
      "execution_count": null,
      "outputs": []
    },
    {
      "cell_type": "code",
      "metadata": {
        "id": "RyQeJP3qcaw0"
      },
      "source": [
        "fav_anime.rstrip()"
      ],
      "execution_count": null,
      "outputs": []
    },
    {
      "cell_type": "code",
      "metadata": {
        "id": "ZESEXoRFch6f"
      },
      "source": [
        "fav_anime.lstrip()"
      ],
      "execution_count": null,
      "outputs": []
    },
    {
      "cell_type": "code",
      "metadata": {
        "id": "gS_cVO_8ck1i"
      },
      "source": [
        "fav_anime.strip()"
      ],
      "execution_count": null,
      "outputs": []
    },
    {
      "cell_type": "markdown",
      "metadata": {
        "id": "Xf9U-D4FeQ5K"
      },
      "source": [
        "\\\\\n",
        "\n",
        "**Avoiding Syntax Errors with Strings**\n",
        "\n",
        "One kind of error that you might see with some regularity is a syntax error. A *syntax error* occurs when Python doesn’t recognize a section of your program as valid Python code."
      ]
    },
    {
      "cell_type": "markdown",
      "metadata": {
        "id": "jw9nofaqesaj"
      },
      "source": [
        "For example, if you use an apostrophe within single quotes, you’ll produce an error. This happens because Python inter- prets everything between the first single quote and the apostrophe as a string. It then tries to interpret the rest of the text as Python code, which causes errors."
      ]
    },
    {
      "cell_type": "code",
      "metadata": {
        "colab": {
          "base_uri": "https://localhost:8080/"
        },
        "id": "q7vkyJGneteT",
        "outputId": "1c233e02-32a8-4bc2-f85b-62e79b556485"
      },
      "source": [
        "comment = \"One of Python's strengths is its diverse community.\"\n",
        "print(comment)"
      ],
      "execution_count": null,
      "outputs": [
        {
          "output_type": "stream",
          "text": [
            "One of Python's strengths is its diverse community.\n"
          ],
          "name": "stdout"
        }
      ]
    },
    {
      "cell_type": "markdown",
      "metadata": {
        "id": "cMsNRm48e4az"
      },
      "source": [
        "The apostrophe appears inside a set of double quotes, so the Python interpreter has no trouble reading the string correctly. "
      ]
    },
    {
      "cell_type": "markdown",
      "metadata": {
        "id": "Ebg_hkz8f7Re"
      },
      "source": [
        "However, if you use single quotes, Python can’t identify where the string should end:"
      ]
    },
    {
      "cell_type": "code",
      "metadata": {
        "id": "CKTPNtP8f-Fc"
      },
      "source": [
        "comment_1 = 'One of Python's strengths is its diverse community.'\n",
        "print(comment_1)"
      ],
      "execution_count": null,
      "outputs": []
    },
    {
      "cell_type": "markdown",
      "metadata": {
        "id": "28rxfukAgGlN"
      },
      "source": [
        "The output in the above code shows an error occuring right after the second quote. This *syntax error* indicates that the interpreter doesn't recognize something in the code as valid Python code. \n",
        "\n",
        "Syntax errors are also the least specific kind of error, so they can be difficult and frustrating to identify and correct."
      ]
    },
    {
      "cell_type": "markdown",
      "metadata": {
        "id": "BV24WqMnhADx"
      },
      "source": [
        "# **Exercises** \n"
      ]
    },
    {
      "cell_type": "markdown",
      "metadata": {
        "id": "_sgwGuC6hGSQ"
      },
      "source": [
        "1. **Personal Message**: Store a person's name in a variable and print a message to that person. Your message should be simple, such as, \"Hello Tsukiyama Shuu, would you like to learn some Python today?\""
      ]
    },
    {
      "cell_type": "code",
      "metadata": {
        "id": "-8_8OHWZhxZs"
      },
      "source": [
        "# Code your answer in 1 here\n"
      ],
      "execution_count": null,
      "outputs": []
    },
    {
      "cell_type": "markdown",
      "metadata": {
        "id": "TkB79cssh0vL"
      },
      "source": [
        "\\\\\n",
        "\n",
        "2. Using the following value in the variables, print the title of the anime using different cases. "
      ]
    },
    {
      "cell_type": "code",
      "metadata": {
        "id": "IbT_cAofnhX4"
      },
      "source": [
        "anime_1 = \"aO hArU rIdE\"\n",
        "anime_2 = \"Charlotte\"\n",
        "anime_3 = \"Mag: The LabyrInth of magic\"\n",
        "\n",
        "# Code your answers after this line"
      ],
      "execution_count": null,
      "outputs": []
    },
    {
      "cell_type": "markdown",
      "metadata": {
        "id": "KPUJhRZNn-yb"
      },
      "source": [
        "\\\\\n",
        "\n",
        "3. Print the following quote in the output: “If you know you are on the right track, if you have this inner knowledge, then nobody can turn you off... no matter what they say.” – Barbara McClintock\n"
      ]
    },
    {
      "cell_type": "code",
      "metadata": {
        "id": "6oCkSqaSokHr"
      },
      "source": [
        "# Code your answer in 3 here"
      ],
      "execution_count": null,
      "outputs": []
    },
    {
      "cell_type": "markdown",
      "metadata": {
        "id": "Ma_WFkYConMN"
      },
      "source": [
        "\\\\\n",
        "\n",
        "4. Replicate the following output:"
      ]
    },
    {
      "cell_type": "code",
      "metadata": {
        "id": "5n0zsf8ros-5"
      },
      "source": [
        "# Code your answer here in 4"
      ],
      "execution_count": null,
      "outputs": []
    },
    {
      "cell_type": "code",
      "metadata": {
        "colab": {
          "base_uri": "https://localhost:8080/"
        },
        "id": "uZjjtudYpwyi",
        "outputId": "f0fed4ec-6663-4829-a1df-7647a9ddc4e9"
      },
      "source": [
        ""
      ],
      "execution_count": null,
      "outputs": [
        {
          "output_type": "stream",
          "text": [
            "Mid morning at the Bagge Farm. Courage is taking a nap outside of the henhouse, while Muriel gathers eggs inside. The camera pans over and a mysterious figure in a white, flowing robe, and a massive white mask approaches him.\n",
            "\n",
            "\tKitty: Dogs are evil.\n",
            "\tCourage: (waking up) Huh?\n",
            "\n",
            "Courage looks up at her, sees the unsettling mask, and screams. Kitty is holding a kitchen sink, and starts pummeling him with it. Courage tries to crawl away.\n",
            "\n",
            "\tMuriel: Courage!\n",
            "\n",
            "Courage cackles deliriously, and his eyes and nose pop off.\n",
            "\n",
            "\tMuriel: (steps out of the henhouse) Oh! playing with your new friend, that's grand. Pleased to meet ya, Courage doesn't make many friends ya know. We'd love it if you joined us for tea.\n"
          ],
          "name": "stdout"
        }
      ]
    }
  ]
}