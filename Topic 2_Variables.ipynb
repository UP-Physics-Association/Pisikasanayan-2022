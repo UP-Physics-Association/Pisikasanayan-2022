{
  "nbformat": 4,
  "nbformat_minor": 0,
  "metadata": {
    "colab": {
      "name": "Python_Meeting1: Variables.ipynb",
      "provenance": [],
      "collapsed_sections": []
    },
    "kernelspec": {
      "name": "python3",
      "display_name": "Python 3"
    },
    "language_info": {
      "name": "python"
    }
  },
  "cells": [
    {
      "cell_type": "markdown",
      "metadata": {
        "id": "rUEizN9dHRDg"
      },
      "source": [
        "# **Variables**"
      ]
    },
    {
      "cell_type": "code",
      "metadata": {
        "id": "hcmTR5g0HIiK",
        "colab": {
          "base_uri": "https://localhost:8080/"
        },
        "outputId": "09edf1d7-49d1-459d-bce5-bb328181c708"
      },
      "source": [
        "message = \"Hello Python world!\"\n",
        "print(message)"
      ],
      "execution_count": null,
      "outputs": [
        {
          "output_type": "stream",
          "text": [
            "Hello Python world!\n"
          ],
          "name": "stdout"
        }
      ]
    },
    {
      "cell_type": "markdown",
      "metadata": {
        "id": "U7VhErGvHls9"
      },
      "source": [
        "Here, we've added a *variable* named `message`. Every variable holds a *value*, which is the information associated with that variable. In this case the value is the text \"Hello Python world!\"\n",
        "\n",
        "This program can be expanded by adding two lines of code:\n"
      ]
    },
    {
      "cell_type": "code",
      "metadata": {
        "id": "Df4_kctNKGD4",
        "colab": {
          "base_uri": "https://localhost:8080/"
        },
        "outputId": "0c08e9e3-366c-4588-df9e-74ffc033e861"
      },
      "source": [
        "message = \"Hello Python world!\"\n",
        "print(message)\n",
        "\n",
        "message2 = \"Hello Juan, welcome to Python world!\"\n",
        "print(message)"
      ],
      "execution_count": null,
      "outputs": [
        {
          "output_type": "stream",
          "name": "stdout",
          "text": [
            "Hello Python world!\n",
            "Hello Python world!\n"
          ]
        }
      ]
    },
    {
      "cell_type": "markdown",
      "metadata": {
        "id": "KqeJ6DuMQMZl"
      },
      "source": [
        "# **Naming and using Variables**"
      ]
    },
    {
      "cell_type": "markdown",
      "metadata": {
        "id": "0bwATHkhQUlt"
      },
      "source": [
        "When using variables in Python, one must adhere to a few rules and guidelines. Breaking some of these rules will cause errors; other guidelines just help you write code that's easier to read and understand."
      ]
    },
    {
      "cell_type": "markdown",
      "metadata": {
        "id": "MeyFyb-tQ5wE"
      },
      "source": [
        "* Variable names can contain only letters, numbers, and underscores. They can start with a letter or an underscore, but not with a number. For instance, you can call a variable `message_1` but not `1_message`.   \n",
        "\n"
      ]
    },
    {
      "cell_type": "code",
      "metadata": {
        "id": "FsRCT3Y4RRMm",
        "colab": {
          "base_uri": "https://localhost:8080/"
        },
        "outputId": "c5bb5178-c069-4651-9045-fcdcd3afe7e1"
      },
      "source": [
        "message_1 = \"Happy Summer Festival!\"\n",
        "message1 = \"Happy Winter Festival!\"\n",
        "\n",
        "print(message_1)\n",
        "print(message1)"
      ],
      "execution_count": null,
      "outputs": [
        {
          "output_type": "stream",
          "text": [
            "Happy Summer Festival!\n",
            "Happy Winter Festival!\n"
          ],
          "name": "stdout"
        }
      ]
    },
    {
      "cell_type": "code",
      "metadata": {
        "id": "q66MipcgSKB2",
        "colab": {
          "base_uri": "https://localhost:8080/",
          "height": 130
        },
        "outputId": "3120259a-e1a0-492c-c1c1-2d0914fa0dfd"
      },
      "source": [
        "1_message = \"Happy Spring Festival!\"\n",
        "\n",
        "print(1_message)"
      ],
      "execution_count": null,
      "outputs": [
        {
          "output_type": "error",
          "ename": "SyntaxError",
          "evalue": "ignored",
          "traceback": [
            "\u001b[0;36m  File \u001b[0;32m\"<ipython-input-4-8dd30198ad27>\"\u001b[0;36m, line \u001b[0;32m1\u001b[0m\n\u001b[0;31m    1_message = \"Happy Spring Festival!\"\u001b[0m\n\u001b[0m     ^\u001b[0m\n\u001b[0;31mSyntaxError\u001b[0m\u001b[0;31m:\u001b[0m invalid token\n"
          ]
        }
      ]
    },
    {
      "cell_type": "markdown",
      "metadata": {
        "id": "n99w-pccR7C8"
      },
      "source": [
        "\\\\\n",
        "* Spaces are not allowed in variable names, but underscores can be used to separate words in variable names. For example, `greeting_message` works but `greeting message` will cause errors."
      ]
    },
    {
      "cell_type": "code",
      "metadata": {
        "id": "Wqrc7mp_Sjxo",
        "colab": {
          "base_uri": "https://localhost:8080/"
        },
        "outputId": "19cb4992-2b13-4dd3-d289-37378558d6c1"
      },
      "source": [
        "greeting_message = \"Welcome to the University!\"\n",
        "\n",
        "print(greeting_message)"
      ],
      "execution_count": null,
      "outputs": [
        {
          "output_type": "stream",
          "text": [
            "Welcome to the University!\n"
          ],
          "name": "stdout"
        }
      ]
    },
    {
      "cell_type": "code",
      "metadata": {
        "id": "Al_nJGxbSx8E",
        "colab": {
          "base_uri": "https://localhost:8080/",
          "height": 130
        },
        "outputId": "3272515b-0e41-48af-c400-dd8743902063"
      },
      "source": [
        "greeting message = \"Welcome to the University\"\n",
        "\n",
        "print(greeting message)"
      ],
      "execution_count": null,
      "outputs": [
        {
          "output_type": "error",
          "ename": "SyntaxError",
          "evalue": "ignored",
          "traceback": [
            "\u001b[0;36m  File \u001b[0;32m\"<ipython-input-6-0e41617d0510>\"\u001b[0;36m, line \u001b[0;32m1\u001b[0m\n\u001b[0;31m    greeting message = \"Welcome to the University\"\u001b[0m\n\u001b[0m                   ^\u001b[0m\n\u001b[0;31mSyntaxError\u001b[0m\u001b[0;31m:\u001b[0m invalid syntax\n"
          ]
        }
      ]
    },
    {
      "cell_type": "markdown",
      "metadata": {
        "id": "OcXEMkpZS9bp"
      },
      "source": [
        "\\\\\n",
        "* Avoid using Python keywords and function names as variable names; that is, do not use words that Python has reserved for a particular programmatic purpose, such as the word `print`.\n",
        "* Variable names should be short but descriptive. For example, `name` is better than `n`, `student_name` is better than `s_n`, and `name_length` is better than `length_of_persons_name`. \n",
        "* Be careful when using the lowercase letter `l` and the uppercase letter `O` because they could be confused with the numbers `1` and `0`. "
      ]
    },
    {
      "cell_type": "markdown",
      "metadata": {
        "id": "zlMk5DTiUNcE"
      },
      "source": [
        "It takes some further practice to create good variable names especially when your programs become more complex. Upon practicing writing program on your own and reading other people's code, you will eventually become better in coming up with variable names."
      ]
    },
    {
      "cell_type": "markdown",
      "metadata": {
        "id": "GZd1nclcWAjg"
      },
      "source": [
        "**Dealing with name errors when using variables**\n",
        "\n",
        "Programmers make mistakes too. Despite these, programmers must be well versed in responding to these errors efficiently. Here's a common example of a name error often encountered by programmers:"
      ]
    },
    {
      "cell_type": "code",
      "metadata": {
        "id": "ou55-Wo8WfEc",
        "colab": {
          "base_uri": "https://localhost:8080/"
        },
        "outputId": "58076f61-ea5e-49b0-92b1-aba57a03d5b7"
      },
      "source": [
        "message = \"Hello Aldrin, welcome!\"\n",
        "\n",
        "print(message)"
      ],
      "execution_count": null,
      "outputs": [
        {
          "output_type": "stream",
          "name": "stdout",
          "text": [
            "Hello Aldrin, welcome!\n"
          ]
        }
      ]
    },
    {
      "cell_type": "markdown",
      "metadata": {
        "id": "HHCtnRYJW3Yj"
      },
      "source": [
        "When error occurs in your program, the interpreter provides a traceback when a program fails to run successfully. A *traceback* is a record of where the interpreter ran into trouble when trying to execute your code. \n",
        "\n"
      ]
    },
    {
      "cell_type": "markdown",
      "metadata": {
        "id": "S99_Dgl4YlCX"
      },
      "source": [
        "# **Exercise**\n"
      ]
    },
    {
      "cell_type": "markdown",
      "metadata": {
        "id": "hbtBqQ-7Yp4C"
      },
      "source": [
        "On your own Google Colab notebook, accomplish the following exercises:\n",
        "\n",
        "1.   **A Simple Message**: Store a message in a variable, and then print that message.\n",
        "\n",
        "2.   **Simple Messages**: Store a message in a variable, and print that message. Afterwards, change the value of your variable to a new message, and print the new message. \n",
        "\n",
        "3. Debug the following programs:\n",
        "\n"
      ]
    },
    {
      "cell_type": "code",
      "metadata": {
        "id": "AUjQeZxGYo-c"
      },
      "source": [
        "# This is the program for item 3\n",
        "\n",
        "my name = \"Hello, my name is Kamado Tanjiro. Nice to meet you!\"\n",
        "\n",
        "prnt(my_name)"
      ],
      "execution_count": null,
      "outputs": []
    },
    {
      "cell_type": "markdown",
      "metadata": {
        "id": "kxBOHss0cvhR"
      },
      "source": [
        "4. Improve the variables in following program and then print the message:"
      ]
    },
    {
      "cell_type": "code",
      "metadata": {
        "id": "IgSg1FgYcymx"
      },
      "source": [
        "# This is the program for item 4\n",
        "\n",
        "happy_new_year_greeting = \"Happy New Year!\"\n",
        "merry_christmas_greeting = \"Merry Christmas!\"\n",
        "anime_character_name = \"Agatsuma Zenitsu\"\n",
        "age of the person = \"16\" \"years old\"\n",
        "place_of_your_birth = \"Quezon City, Metro Manila, Philippines\""
      ],
      "execution_count": null,
      "outputs": []
    }
  ]
}